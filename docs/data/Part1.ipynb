{
 "cells": [
  {
   "cell_type": "markdown",
   "id": "a9d8e3e8-84e6-4b7c-8c0a-afa6248fc4c6",
   "metadata": {},
   "source": [
    "## 1.1 Getting Started"
   ]
  },
  {
   "cell_type": "code",
   "execution_count": 1,
   "id": "db6e3e82-fdee-4a6b-bc9c-09a7f0519d9e",
   "metadata": {},
   "outputs": [],
   "source": [
    "# Intro to Python\n",
    "\n",
    "### this is a comment - it is not visible by the code, \n",
    "# and it helps with readability"
   ]
  },
  {
   "cell_type": "code",
   "execution_count": 2,
   "id": "b24c8acf-e9a9-4c61-a9c6-5b09e14d41af",
   "metadata": {},
   "outputs": [
    {
     "data": {
      "text/plain": [
       "2"
      ]
     },
     "execution_count": 2,
     "metadata": {},
     "output_type": "execute_result"
    }
   ],
   "source": [
    "1 + 1"
   ]
  },
  {
   "cell_type": "code",
   "execution_count": 3,
   "id": "4fb719cb-096a-4c58-a5de-5fd2e558eec4",
   "metadata": {},
   "outputs": [
    {
     "data": {
      "text/plain": [
       "-1"
      ]
     },
     "execution_count": 3,
     "metadata": {},
     "output_type": "execute_result"
    }
   ],
   "source": [
    "2-3"
   ]
  },
  {
   "cell_type": "code",
   "execution_count": 4,
   "id": "dedad6a8-67da-41b7-b437-04976ec9ef2e",
   "metadata": {},
   "outputs": [
    {
     "data": {
      "text/plain": [
       "3.0"
      ]
     },
     "execution_count": 4,
     "metadata": {},
     "output_type": "execute_result"
    }
   ],
   "source": [
    "6 / 2"
   ]
  },
  {
   "cell_type": "code",
   "execution_count": 5,
   "id": "2bb4d18e-82b1-43c6-8f4e-25edfc15e680",
   "metadata": {},
   "outputs": [
    {
     "data": {
      "text/plain": [
       "12"
      ]
     },
     "execution_count": 5,
     "metadata": {},
     "output_type": "execute_result"
    }
   ],
   "source": [
    "3 * 4"
   ]
  },
  {
   "cell_type": "code",
   "execution_count": 6,
   "id": "5ff1bd15-1903-4de8-b802-573326f77133",
   "metadata": {},
   "outputs": [
    {
     "data": {
      "text/plain": [
       "3.0"
      ]
     },
     "execution_count": 6,
     "metadata": {},
     "output_type": "execute_result"
    }
   ],
   "source": [
    "import math\n",
    "math.sqrt(9)"
   ]
  },
  {
   "cell_type": "code",
   "execution_count": 7,
   "id": "f4227bca-e425-4b21-b594-0517094bab18",
   "metadata": {},
   "outputs": [
    {
     "data": {
      "text/plain": [
       "4.605170185988092"
      ]
     },
     "execution_count": 7,
     "metadata": {},
     "output_type": "execute_result"
    }
   ],
   "source": [
    "math.log(100)"
   ]
  },
  {
   "cell_type": "code",
   "execution_count": 8,
   "id": "2dc136a2-c320-4f7b-accd-617c5cb9af93",
   "metadata": {},
   "outputs": [
    {
     "name": "stdout",
     "output_type": "stream",
     "text": [
      "0\n",
      "1\n",
      "2\n",
      "3\n",
      "4\n",
      "5\n"
     ]
    }
   ],
   "source": [
    "x = range(6)\n",
    "for n in x:\n",
    "  print(n)"
   ]
  },
  {
   "cell_type": "code",
   "execution_count": 9,
   "id": "89241476-41ab-48d2-856f-17244eca4a4b",
   "metadata": {},
   "outputs": [
    {
     "name": "stdout",
     "output_type": "stream",
     "text": [
      "10\n",
      "20\n",
      "30\n",
      "40\n",
      "50\n",
      "60\n",
      "70\n",
      "80\n",
      "90\n"
     ]
    }
   ],
   "source": [
    "for n in range(10, 100, 10):\n",
    "  print(n)"
   ]
  },
  {
   "cell_type": "markdown",
   "id": "56c43411-bd03-4d0c-96bf-ae57573441d4",
   "metadata": {},
   "source": [
    "## 1.2 Python and Jupyter Notebook"
   ]
  },
  {
   "cell_type": "code",
   "execution_count": 17,
   "id": "b8c1a36c-f3a0-40bd-ab12-7b39ed89daa8",
   "metadata": {},
   "outputs": [
    {
     "name": "stdout",
     "output_type": "stream",
     "text": [
      "Hello World!\n"
     ]
    }
   ],
   "source": [
    "print(\"Hello World!\")"
   ]
  },
  {
   "cell_type": "markdown",
   "id": "5efe5e34-a197-4e21-aa77-31627937ea9c",
   "metadata": {},
   "source": [
    "## 1.3 Functions"
   ]
  },
  {
   "cell_type": "code",
   "execution_count": 18,
   "id": "a00cf0f6-a08d-49fa-8f15-7469b2242300",
   "metadata": {},
   "outputs": [
    {
     "name": "stdout",
     "output_type": "stream",
     "text": [
      "[10, 196, 80, 75, 150, 167, 81, 163, 101, 104, 192, 141, 78, 130, 136, 138, 170, 184, 12, 153, 132, 69, 89, 68, 48, 144, 37, 112, 159, 172, 79, 29, 164, 74, 106, 134, 190, 70, 18, 151, 165, 17, 50, 25, 125, 86, 85, 16, 173, 92]\n"
     ]
    }
   ],
   "source": [
    "import random\n",
    "#Generate 50 random numbers between 10 and 200\n",
    "randomlist = random.sample(range(10, 200), 50)\n",
    "print(randomlist)"
   ]
  },
  {
   "cell_type": "code",
   "execution_count": 19,
   "id": "cc2d209c-a86f-44d2-a409-93463238a57f",
   "metadata": {},
   "outputs": [
    {
     "data": {
      "text/plain": [
       "106.8"
      ]
     },
     "execution_count": 19,
     "metadata": {},
     "output_type": "execute_result"
    }
   ],
   "source": [
    "import numpy as np\n",
    "np.mean(randomlist) # calculate the mean "
   ]
  },
  {
   "cell_type": "code",
   "execution_count": 20,
   "id": "5415d9d1-5906-4f99-b321-9382f08e58b5",
   "metadata": {},
   "outputs": [
    {
     "data": {
      "text/plain": [
       "106.8"
      ]
     },
     "execution_count": 20,
     "metadata": {},
     "output_type": "execute_result"
    }
   ],
   "source": [
    "sum(randomlist) / len(randomlist) # calculate the mean"
   ]
  },
  {
   "cell_type": "code",
   "execution_count": 21,
   "id": "904d7c4e-60f9-4ce7-8fc0-320e89200be0",
   "metadata": {},
   "outputs": [
    {
     "data": {
      "text/plain": [
       "105.0"
      ]
     },
     "execution_count": 21,
     "metadata": {},
     "output_type": "execute_result"
    }
   ],
   "source": [
    "import statistics as st\n",
    "st.median(randomlist) # calculate the median"
   ]
  },
  {
   "cell_type": "code",
   "execution_count": 22,
   "id": "c97f9cc7-824c-46ba-8e8b-d8775ae423a6",
   "metadata": {},
   "outputs": [
    {
     "data": {
      "text/plain": [
       "2943.92"
      ]
     },
     "execution_count": 22,
     "metadata": {},
     "output_type": "execute_result"
    }
   ],
   "source": [
    "np.var(randomlist) # variance"
   ]
  },
  {
   "cell_type": "code",
   "execution_count": 23,
   "id": "aaab6a71-98ff-4a6c-bf0a-e5c142daaaef",
   "metadata": {},
   "outputs": [
    {
     "data": {
      "text/plain": [
       "54.25790265021308"
      ]
     },
     "execution_count": 23,
     "metadata": {},
     "output_type": "execute_result"
    }
   ],
   "source": [
    "np.std(randomlist) # standard deviation"
   ]
  },
  {
   "cell_type": "markdown",
   "id": "e11966d2-b1ad-461f-a4a9-90f72855817a",
   "metadata": {},
   "source": [
    "## 1.4 Variables"
   ]
  },
  {
   "cell_type": "code",
   "execution_count": 24,
   "id": "42058c3e-eb9b-4f74-91bf-9fd47ee6f307",
   "metadata": {},
   "outputs": [],
   "source": [
    "# Defining a variable\n",
    "x = 5"
   ]
  },
  {
   "cell_type": "code",
   "execution_count": 25,
   "id": "a55d2248-f619-428b-ace6-0a7fe8b627aa",
   "metadata": {},
   "outputs": [
    {
     "name": "stdout",
     "output_type": "stream",
     "text": [
      "5\n"
     ]
    }
   ],
   "source": [
    "print(x)"
   ]
  },
  {
   "cell_type": "code",
   "execution_count": 26,
   "id": "95439afc-534e-4a67-b6e8-d2294fdaa34d",
   "metadata": {},
   "outputs": [
    {
     "data": {
      "text/plain": [
       "10"
      ]
     },
     "execution_count": 26,
     "metadata": {},
     "output_type": "execute_result"
    }
   ],
   "source": [
    "x = 10\n",
    "x"
   ]
  },
  {
   "cell_type": "code",
   "execution_count": 27,
   "id": "1b4acc6a-250b-42fc-b055-c63332235a41",
   "metadata": {},
   "outputs": [
    {
     "data": {
      "text/plain": [
       "2"
      ]
     },
     "execution_count": 27,
     "metadata": {},
     "output_type": "execute_result"
    }
   ],
   "source": [
    "# Basic Operations\n",
    "x = 1 + 1\n",
    "x"
   ]
  },
  {
   "cell_type": "code",
   "execution_count": 28,
   "id": "5eef878c-521f-492a-af30-37bd520e6b6b",
   "metadata": {},
   "outputs": [
    {
     "data": {
      "text/plain": [
       "4"
      ]
     },
     "execution_count": 28,
     "metadata": {},
     "output_type": "execute_result"
    }
   ],
   "source": [
    "x ** 2 # square the variable x"
   ]
  },
  {
   "cell_type": "code",
   "execution_count": 29,
   "id": "5498fe34-909a-4ef0-89c3-1ebc4b65658c",
   "metadata": {},
   "outputs": [],
   "source": [
    "import random\n",
    "random_sample = random.sample(range(1, 100), 10)"
   ]
  },
  {
   "cell_type": "markdown",
   "id": "2250ce42-0e25-421f-bbcd-98de03ad2450",
   "metadata": {},
   "source": [
    "## 1.5 Getting Help"
   ]
  },
  {
   "cell_type": "code",
   "execution_count": 30,
   "id": "05d94946-e535-4d58-b04e-447138c619dd",
   "metadata": {},
   "outputs": [
    {
     "name": "stdout",
     "output_type": "stream",
     "text": [
      "Help on built-in function print in module builtins:\n",
      "\n",
      "print(...)\n",
      "    print(value, ..., sep=' ', end='\\n', file=sys.stdout, flush=False)\n",
      "    \n",
      "    Prints the values to a stream, or to sys.stdout by default.\n",
      "    Optional keyword arguments:\n",
      "    file:  a file-like object (stream); defaults to the current sys.stdout.\n",
      "    sep:   string inserted between values, default a space.\n",
      "    end:   string appended after the last value, default a newline.\n",
      "    flush: whether to forcibly flush the stream.\n",
      "\n"
     ]
    }
   ],
   "source": [
    "help(print)"
   ]
  },
  {
   "cell_type": "code",
   "execution_count": null,
   "id": "a3c45e90-bc74-407a-87f0-6d3b0e2f58cc",
   "metadata": {},
   "outputs": [],
   "source": []
  },
  {
   "cell_type": "code",
   "execution_count": null,
   "id": "4b6dcc3e-83b4-42aa-ae49-b7c20fba555f",
   "metadata": {},
   "outputs": [],
   "source": []
  }
 ],
 "metadata": {
  "kernelspec": {
   "display_name": "Python 3 (ipykernel)",
   "language": "python",
   "name": "python3"
  },
  "language_info": {
   "codemirror_mode": {
    "name": "ipython",
    "version": 3
   },
   "file_extension": ".py",
   "mimetype": "text/x-python",
   "name": "python",
   "nbconvert_exporter": "python",
   "pygments_lexer": "ipython3",
   "version": "3.10.8"
  }
 },
 "nbformat": 4,
 "nbformat_minor": 5
}
