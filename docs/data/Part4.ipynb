{
 "cells": [
  {
   "cell_type": "markdown",
   "id": "7fd10d46-8373-4933-92f3-eb3c67ade0d6",
   "metadata": {
    "tags": []
   },
   "source": [
    "## 4.1 Preliminary Analysis"
   ]
  },
  {
   "cell_type": "code",
   "execution_count": 1,
   "id": "29cb1705-1975-401d-9f0c-4b5c308de940",
   "metadata": {},
   "outputs": [],
   "source": [
    "import pandas as pd\n",
    "url = 'https://raw.githubusercontent.com/jstaf/gapminder/master/gapminder/gapminder.csv'\n",
    "df = pd.read_csv(url)"
   ]
  },
  {
   "cell_type": "code",
   "execution_count": 2,
   "id": "da38c6bc-f911-4b49-90f3-c356c1ba99cc",
   "metadata": {},
   "outputs": [
    {
     "data": {
      "text/html": [
       "<table class=\"simpletable\">\n",
       "<caption>OLS Regression Results</caption>\n",
       "<tr>\n",
       "  <th>Dep. Variable:</th>           <td>pop</td>       <th>  R-squared:         </th> <td>   0.007</td> \n",
       "</tr>\n",
       "<tr>\n",
       "  <th>Model:</th>                   <td>OLS</td>       <th>  Adj. R-squared:    </th> <td>   0.006</td> \n",
       "</tr>\n",
       "<tr>\n",
       "  <th>Method:</th>             <td>Least Squares</td>  <th>  F-statistic:       </th> <td>   11.61</td> \n",
       "</tr>\n",
       "<tr>\n",
       "  <th>Date:</th>             <td>Thu, 02 Mar 2023</td> <th>  Prob (F-statistic):</th> <td>0.000672</td> \n",
       "</tr>\n",
       "<tr>\n",
       "  <th>Time:</th>                 <td>22:00:02</td>     <th>  Log-Likelihood:    </th> <td> -33902.</td> \n",
       "</tr>\n",
       "<tr>\n",
       "  <th>No. Observations:</th>      <td>  1704</td>      <th>  AIC:               </th> <td>6.781e+04</td>\n",
       "</tr>\n",
       "<tr>\n",
       "  <th>Df Residuals:</th>          <td>  1702</td>      <th>  BIC:               </th> <td>6.782e+04</td>\n",
       "</tr>\n",
       "<tr>\n",
       "  <th>Df Model:</th>              <td>     1</td>      <th>                     </th>     <td> </td>    \n",
       "</tr>\n",
       "<tr>\n",
       "  <th>Covariance Type:</th>      <td>nonrobust</td>    <th>                     </th>     <td> </td>    \n",
       "</tr>\n",
       "</table>\n",
       "<table class=\"simpletable\">\n",
       "<tr>\n",
       "    <td></td>       <th>coef</th>     <th>std err</th>      <th>t</th>      <th>P>|t|</th>  <th>[0.025</th>    <th>0.975]</th>  \n",
       "</tr>\n",
       "<tr>\n",
       "  <th>const</th> <td>-9.722e+08</td> <td> 2.94e+08</td> <td>   -3.306</td> <td> 0.001</td> <td>-1.55e+09</td> <td>-3.95e+08</td>\n",
       "</tr>\n",
       "<tr>\n",
       "  <th>year</th>  <td> 5.061e+05</td> <td> 1.49e+05</td> <td>    3.407</td> <td> 0.001</td> <td> 2.15e+05</td> <td> 7.97e+05</td>\n",
       "</tr>\n",
       "</table>\n",
       "<table class=\"simpletable\">\n",
       "<tr>\n",
       "  <th>Omnibus:</th>       <td>2403.823</td> <th>  Durbin-Watson:     </th>  <td>   0.187</td> \n",
       "</tr>\n",
       "<tr>\n",
       "  <th>Prob(Omnibus):</th>  <td> 0.000</td>  <th>  Jarque-Bera (JB):  </th> <td>438354.240</td>\n",
       "</tr>\n",
       "<tr>\n",
       "  <th>Skew:</th>           <td> 8.286</td>  <th>  Prob(JB):          </th>  <td>    0.00</td> \n",
       "</tr>\n",
       "<tr>\n",
       "  <th>Kurtosis:</th>       <td>79.807</td>  <th>  Cond. No.          </th>  <td>2.27e+05</td> \n",
       "</tr>\n",
       "</table><br/><br/>Notes:<br/>[1] Standard Errors assume that the covariance matrix of the errors is correctly specified.<br/>[2] The condition number is large, 2.27e+05. This might indicate that there are<br/>strong multicollinearity or other numerical problems."
      ],
      "text/plain": [
       "<class 'statsmodels.iolib.summary.Summary'>\n",
       "\"\"\"\n",
       "                            OLS Regression Results                            \n",
       "==============================================================================\n",
       "Dep. Variable:                    pop   R-squared:                       0.007\n",
       "Model:                            OLS   Adj. R-squared:                  0.006\n",
       "Method:                 Least Squares   F-statistic:                     11.61\n",
       "Date:                Thu, 02 Mar 2023   Prob (F-statistic):           0.000672\n",
       "Time:                        22:00:02   Log-Likelihood:                -33902.\n",
       "No. Observations:                1704   AIC:                         6.781e+04\n",
       "Df Residuals:                    1702   BIC:                         6.782e+04\n",
       "Df Model:                           1                                         \n",
       "Covariance Type:            nonrobust                                         \n",
       "==============================================================================\n",
       "                 coef    std err          t      P>|t|      [0.025      0.975]\n",
       "------------------------------------------------------------------------------\n",
       "const      -9.722e+08   2.94e+08     -3.306      0.001   -1.55e+09   -3.95e+08\n",
       "year        5.061e+05   1.49e+05      3.407      0.001    2.15e+05    7.97e+05\n",
       "==============================================================================\n",
       "Omnibus:                     2403.823   Durbin-Watson:                   0.187\n",
       "Prob(Omnibus):                  0.000   Jarque-Bera (JB):           438354.240\n",
       "Skew:                           8.286   Prob(JB):                         0.00\n",
       "Kurtosis:                      79.807   Cond. No.                     2.27e+05\n",
       "==============================================================================\n",
       "\n",
       "Notes:\n",
       "[1] Standard Errors assume that the covariance matrix of the errors is correctly specified.\n",
       "[2] The condition number is large, 2.27e+05. This might indicate that there are\n",
       "strong multicollinearity or other numerical problems.\n",
       "\"\"\""
      ]
     },
     "execution_count": 2,
     "metadata": {},
     "output_type": "execute_result"
    }
   ],
   "source": [
    "import statsmodels.api as sm\n",
    "# define our x and y variables for clarity\n",
    "y = df['pop']\n",
    "x = df['year']\n",
    "x = sm.add_constant(x)\n",
    "model = sm.OLS(y,x).fit()\n",
    "model.summary()"
   ]
  },
  {
   "cell_type": "code",
   "execution_count": 3,
   "id": "ec801020-744f-46c4-baad-a8d4d35b785d",
   "metadata": {},
   "outputs": [
    {
     "data": {
      "text/plain": [
       "<matplotlib.collections.PathCollection at 0x7f4ec9a20eb0>"
      ]
     },
     "execution_count": 3,
     "metadata": {},
     "output_type": "execute_result"
    },
    {
     "data": {
      "image/png": "[encoded data removed]",
      "text/plain": [
       "<Figure size 640x480 with 1 Axes>"
      ]
     },
     "metadata": {},
     "output_type": "display_data"
    }
   ],
   "source": [
    "import matplotlib.pyplot as plt\n",
    "plt.scatter(x = df['year'], y = df['pop'])"
   ]
  },
  {
   "cell_type": "code",
   "execution_count": 4,
   "id": "4c0d70a2-0216-4394-8b3d-3ce63f2d1a79",
   "metadata": {},
   "outputs": [
    {
     "data": {
      "text/html": [
       "<div>\n",
       "<style scoped>\n",
       "    .dataframe tbody tr th:only-of-type {\n",
       "        vertical-align: middle;\n",
       "    }\n",
       "\n",
       "    .dataframe tbody tr th {\n",
       "        vertical-align: top;\n",
       "    }\n",
       "\n",
       "    .dataframe thead th {\n",
       "        text-align: right;\n",
       "    }\n",
       "</style>\n",
       "<table border=\"1\" class=\"dataframe\">\n",
       "  <thead>\n",
       "    <tr style=\"text-align: right;\">\n",
       "      <th></th>\n",
       "      <th>country</th>\n",
       "      <th>continent</th>\n",
       "      <th>year</th>\n",
       "      <th>lifeExp</th>\n",
       "      <th>pop</th>\n",
       "      <th>gdpPercap</th>\n",
       "    </tr>\n",
       "  </thead>\n",
       "  <tbody>\n",
       "    <tr>\n",
       "      <th>24</th>\n",
       "      <td>Algeria</td>\n",
       "      <td>Africa</td>\n",
       "      <td>1952</td>\n",
       "      <td>43.077</td>\n",
       "      <td>9279525</td>\n",
       "      <td>2449.008185</td>\n",
       "    </tr>\n",
       "    <tr>\n",
       "      <th>25</th>\n",
       "      <td>Algeria</td>\n",
       "      <td>Africa</td>\n",
       "      <td>1957</td>\n",
       "      <td>45.685</td>\n",
       "      <td>10270856</td>\n",
       "      <td>3013.976023</td>\n",
       "    </tr>\n",
       "    <tr>\n",
       "      <th>26</th>\n",
       "      <td>Algeria</td>\n",
       "      <td>Africa</td>\n",
       "      <td>1962</td>\n",
       "      <td>48.303</td>\n",
       "      <td>11000948</td>\n",
       "      <td>2550.816880</td>\n",
       "    </tr>\n",
       "    <tr>\n",
       "      <th>27</th>\n",
       "      <td>Algeria</td>\n",
       "      <td>Africa</td>\n",
       "      <td>1967</td>\n",
       "      <td>51.407</td>\n",
       "      <td>12760499</td>\n",
       "      <td>3246.991771</td>\n",
       "    </tr>\n",
       "    <tr>\n",
       "      <th>28</th>\n",
       "      <td>Algeria</td>\n",
       "      <td>Africa</td>\n",
       "      <td>1972</td>\n",
       "      <td>54.518</td>\n",
       "      <td>14760787</td>\n",
       "      <td>4182.663766</td>\n",
       "    </tr>\n",
       "  </tbody>\n",
       "</table>\n",
       "</div>"
      ],
      "text/plain": [
       "    country continent  year  lifeExp       pop    gdpPercap\n",
       "24  Algeria    Africa  1952   43.077   9279525  2449.008185\n",
       "25  Algeria    Africa  1957   45.685  10270856  3013.976023\n",
       "26  Algeria    Africa  1962   48.303  11000948  2550.816880\n",
       "27  Algeria    Africa  1967   51.407  12760499  3246.991771\n",
       "28  Algeria    Africa  1972   54.518  14760787  4182.663766"
      ]
     },
     "execution_count": 4,
     "metadata": {},
     "output_type": "execute_result"
    }
   ],
   "source": [
    "df_AF = df[df['continent'] == 'Africa']\n",
    "df_AF.head()"
   ]
  },
  {
   "cell_type": "code",
   "execution_count": 5,
   "id": "e0ba2ac2-ae18-45c6-b86b-2d217e992726",
   "metadata": {},
   "outputs": [
    {
     "data": {
      "text/html": [
       "<table class=\"simpletable\">\n",
       "<caption>OLS Regression Results</caption>\n",
       "<tr>\n",
       "  <th>Dep. Variable:</th>           <td>pop</td>       <th>  R-squared:         </th> <td>   0.074</td> \n",
       "</tr>\n",
       "<tr>\n",
       "  <th>Model:</th>                   <td>OLS</td>       <th>  Adj. R-squared:    </th> <td>   0.072</td> \n",
       "</tr>\n",
       "<tr>\n",
       "  <th>Method:</th>             <td>Least Squares</td>  <th>  F-statistic:       </th> <td>   49.66</td> \n",
       "</tr>\n",
       "<tr>\n",
       "  <th>Date:</th>             <td>Thu, 02 Mar 2023</td> <th>  Prob (F-statistic):</th> <td>4.87e-12</td> \n",
       "</tr>\n",
       "<tr>\n",
       "  <th>Time:</th>                 <td>22:00:06</td>     <th>  Log-Likelihood:    </th> <td> -11192.</td> \n",
       "</tr>\n",
       "<tr>\n",
       "  <th>No. Observations:</th>      <td>   624</td>      <th>  AIC:               </th> <td>2.239e+04</td>\n",
       "</tr>\n",
       "<tr>\n",
       "  <th>Df Residuals:</th>          <td>   622</td>      <th>  BIC:               </th> <td>2.240e+04</td>\n",
       "</tr>\n",
       "<tr>\n",
       "  <th>Df Model:</th>              <td>     1</td>      <th>                     </th>     <td> </td>    \n",
       "</tr>\n",
       "<tr>\n",
       "  <th>Covariance Type:</th>      <td>nonrobust</td>    <th>                     </th>     <td> </td>    \n",
       "</tr>\n",
       "</table>\n",
       "<table class=\"simpletable\">\n",
       "<tr>\n",
       "    <td></td>       <th>coef</th>     <th>std err</th>      <th>t</th>      <th>P>|t|</th>  <th>[0.025</th>    <th>0.975]</th>  \n",
       "</tr>\n",
       "<tr>\n",
       "  <th>const</th> <td>-4.728e+08</td> <td> 6.85e+07</td> <td>   -6.902</td> <td> 0.000</td> <td>-6.07e+08</td> <td>-3.38e+08</td>\n",
       "</tr>\n",
       "<tr>\n",
       "  <th>year</th>  <td> 2.438e+05</td> <td> 3.46e+04</td> <td>    7.047</td> <td> 0.000</td> <td> 1.76e+05</td> <td> 3.12e+05</td>\n",
       "</tr>\n",
       "</table>\n",
       "<table class=\"simpletable\">\n",
       "<tr>\n",
       "  <th>Omnibus:</th>       <td>477.344</td> <th>  Durbin-Watson:     </th> <td>   0.284</td>\n",
       "</tr>\n",
       "<tr>\n",
       "  <th>Prob(Omnibus):</th> <td> 0.000</td>  <th>  Jarque-Bera (JB):  </th> <td>7771.738</td>\n",
       "</tr>\n",
       "<tr>\n",
       "  <th>Skew:</th>          <td> 3.336</td>  <th>  Prob(JB):          </th> <td>    0.00</td>\n",
       "</tr>\n",
       "<tr>\n",
       "  <th>Kurtosis:</th>      <td>18.950</td>  <th>  Cond. No.          </th> <td>2.27e+05</td>\n",
       "</tr>\n",
       "</table><br/><br/>Notes:<br/>[1] Standard Errors assume that the covariance matrix of the errors is correctly specified.<br/>[2] The condition number is large, 2.27e+05. This might indicate that there are<br/>strong multicollinearity or other numerical problems."
      ],
      "text/plain": [
       "<class 'statsmodels.iolib.summary.Summary'>\n",
       "\"\"\"\n",
       "                            OLS Regression Results                            \n",
       "==============================================================================\n",
       "Dep. Variable:                    pop   R-squared:                       0.074\n",
       "Model:                            OLS   Adj. R-squared:                  0.072\n",
       "Method:                 Least Squares   F-statistic:                     49.66\n",
       "Date:                Thu, 02 Mar 2023   Prob (F-statistic):           4.87e-12\n",
       "Time:                        22:00:06   Log-Likelihood:                -11192.\n",
       "No. Observations:                 624   AIC:                         2.239e+04\n",
       "Df Residuals:                     622   BIC:                         2.240e+04\n",
       "Df Model:                           1                                         \n",
       "Covariance Type:            nonrobust                                         \n",
       "==============================================================================\n",
       "                 coef    std err          t      P>|t|      [0.025      0.975]\n",
       "------------------------------------------------------------------------------\n",
       "const      -4.728e+08   6.85e+07     -6.902      0.000   -6.07e+08   -3.38e+08\n",
       "year        2.438e+05   3.46e+04      7.047      0.000    1.76e+05    3.12e+05\n",
       "==============================================================================\n",
       "Omnibus:                      477.344   Durbin-Watson:                   0.284\n",
       "Prob(Omnibus):                  0.000   Jarque-Bera (JB):             7771.738\n",
       "Skew:                           3.336   Prob(JB):                         0.00\n",
       "Kurtosis:                      18.950   Cond. No.                     2.27e+05\n",
       "==============================================================================\n",
       "\n",
       "Notes:\n",
       "[1] Standard Errors assume that the covariance matrix of the errors is correctly specified.\n",
       "[2] The condition number is large, 2.27e+05. This might indicate that there are\n",
       "strong multicollinearity or other numerical problems.\n",
       "\"\"\""
      ]
     },
     "execution_count": 5,
     "metadata": {},
     "output_type": "execute_result"
    }
   ],
   "source": [
    "y = df_AF['pop']\n",
    "x = df_AF['year']\n",
    "x = sm.add_constant(x)\n",
    "model1 = sm.OLS(y,x).fit()\n",
    "model1.summary()"
   ]
  },
  {
   "cell_type": "code",
   "execution_count": 6,
   "id": "76cfe679-bd26-4862-be70-9e36ccd893b0",
   "metadata": {},
   "outputs": [
    {
     "data": {
      "text/plain": [
       "<matplotlib.collections.PathCollection at 0x7f4ec996cdc0>"
      ]
     },
     "execution_count": 6,
     "metadata": {},
     "output_type": "execute_result"
    },
    {
     "data": {
      "image/png": "[encoded data removed]",
      "text/plain": [
       "<Figure size 640x480 with 1 Axes>"
      ]
     },
     "metadata": {},
     "output_type": "display_data"
    }
   ],
   "source": [
    "plt.scatter(x = df_AF['year'], y = df_AF['pop'])"
   ]
  },
  {
   "cell_type": "markdown",
   "id": "8eeffb8d-cd64-4143-ad47-74062ffe7cc0",
   "metadata": {},
   "source": [
    "## 4.2 Visualization"
   ]
  },
  {
   "cell_type": "code",
   "execution_count": 7,
   "id": "896a96fc-c0b1-4e41-a456-1e7052eddbc4",
   "metadata": {},
   "outputs": [
    {
     "data": {
      "text/html": [
       "<div>\n",
       "<style scoped>\n",
       "    .dataframe tbody tr th:only-of-type {\n",
       "        vertical-align: middle;\n",
       "    }\n",
       "\n",
       "    .dataframe tbody tr th {\n",
       "        vertical-align: top;\n",
       "    }\n",
       "\n",
       "    .dataframe thead th {\n",
       "        text-align: right;\n",
       "    }\n",
       "</style>\n",
       "<table border=\"1\" class=\"dataframe\">\n",
       "  <thead>\n",
       "    <tr style=\"text-align: right;\">\n",
       "      <th></th>\n",
       "      <th>Sepal.Length</th>\n",
       "      <th>Sepal.Width</th>\n",
       "      <th>Petal.Length</th>\n",
       "      <th>Petal.Width</th>\n",
       "      <th>Species</th>\n",
       "    </tr>\n",
       "  </thead>\n",
       "  <tbody>\n",
       "    <tr>\n",
       "      <th>0</th>\n",
       "      <td>5.1</td>\n",
       "      <td>3.5</td>\n",
       "      <td>1.4</td>\n",
       "      <td>0.2</td>\n",
       "      <td>setosa</td>\n",
       "    </tr>\n",
       "    <tr>\n",
       "      <th>1</th>\n",
       "      <td>4.9</td>\n",
       "      <td>3.0</td>\n",
       "      <td>1.4</td>\n",
       "      <td>0.2</td>\n",
       "      <td>setosa</td>\n",
       "    </tr>\n",
       "    <tr>\n",
       "      <th>2</th>\n",
       "      <td>4.7</td>\n",
       "      <td>3.2</td>\n",
       "      <td>1.3</td>\n",
       "      <td>0.2</td>\n",
       "      <td>setosa</td>\n",
       "    </tr>\n",
       "    <tr>\n",
       "      <th>3</th>\n",
       "      <td>4.6</td>\n",
       "      <td>3.1</td>\n",
       "      <td>1.5</td>\n",
       "      <td>0.2</td>\n",
       "      <td>setosa</td>\n",
       "    </tr>\n",
       "    <tr>\n",
       "      <th>4</th>\n",
       "      <td>5.0</td>\n",
       "      <td>3.6</td>\n",
       "      <td>1.4</td>\n",
       "      <td>0.2</td>\n",
       "      <td>setosa</td>\n",
       "    </tr>\n",
       "    <tr>\n",
       "      <th>...</th>\n",
       "      <td>...</td>\n",
       "      <td>...</td>\n",
       "      <td>...</td>\n",
       "      <td>...</td>\n",
       "      <td>...</td>\n",
       "    </tr>\n",
       "    <tr>\n",
       "      <th>145</th>\n",
       "      <td>6.7</td>\n",
       "      <td>3.0</td>\n",
       "      <td>5.2</td>\n",
       "      <td>2.3</td>\n",
       "      <td>virginica</td>\n",
       "    </tr>\n",
       "    <tr>\n",
       "      <th>146</th>\n",
       "      <td>6.3</td>\n",
       "      <td>2.5</td>\n",
       "      <td>5.0</td>\n",
       "      <td>1.9</td>\n",
       "      <td>virginica</td>\n",
       "    </tr>\n",
       "    <tr>\n",
       "      <th>147</th>\n",
       "      <td>6.5</td>\n",
       "      <td>3.0</td>\n",
       "      <td>5.2</td>\n",
       "      <td>2.0</td>\n",
       "      <td>virginica</td>\n",
       "    </tr>\n",
       "    <tr>\n",
       "      <th>148</th>\n",
       "      <td>6.2</td>\n",
       "      <td>3.4</td>\n",
       "      <td>5.4</td>\n",
       "      <td>2.3</td>\n",
       "      <td>virginica</td>\n",
       "    </tr>\n",
       "    <tr>\n",
       "      <th>149</th>\n",
       "      <td>5.9</td>\n",
       "      <td>3.0</td>\n",
       "      <td>5.1</td>\n",
       "      <td>1.8</td>\n",
       "      <td>virginica</td>\n",
       "    </tr>\n",
       "  </tbody>\n",
       "</table>\n",
       "<p>150 rows × 5 columns</p>\n",
       "</div>"
      ],
      "text/plain": [
       "     Sepal.Length  Sepal.Width  Petal.Length  Petal.Width    Species\n",
       "0             5.1          3.5           1.4          0.2     setosa\n",
       "1             4.9          3.0           1.4          0.2     setosa\n",
       "2             4.7          3.2           1.3          0.2     setosa\n",
       "3             4.6          3.1           1.5          0.2     setosa\n",
       "4             5.0          3.6           1.4          0.2     setosa\n",
       "..            ...          ...           ...          ...        ...\n",
       "145           6.7          3.0           5.2          2.3  virginica\n",
       "146           6.3          2.5           5.0          1.9  virginica\n",
       "147           6.5          3.0           5.2          2.0  virginica\n",
       "148           6.2          3.4           5.4          2.3  virginica\n",
       "149           5.9          3.0           5.1          1.8  virginica\n",
       "\n",
       "[150 rows x 5 columns]"
      ]
     },
     "execution_count": 7,
     "metadata": {},
     "output_type": "execute_result"
    }
   ],
   "source": [
    "import statsmodels.api as sm\n",
    "iris = sm.datasets.get_rdataset('iris').data\n",
    "iris"
   ]
  },
  {
   "cell_type": "code",
   "execution_count": 8,
   "id": "b0de09be-6807-479e-9186-3d94bcda0c02",
   "metadata": {},
   "outputs": [
    {
     "data": {
      "text/plain": [
       "<matplotlib.collections.PathCollection at 0x7f4ec9a0bc70>"
      ]
     },
     "execution_count": 8,
     "metadata": {},
     "output_type": "execute_result"
    },
    {
     "data": {
      "image/png": "[encoded data removed]",
      "text/plain": [
       "<Figure size 640x480 with 1 Axes>"
      ]
     },
     "metadata": {},
     "output_type": "display_data"
    }
   ],
   "source": [
    "import matplotlib.pyplot as plt\n",
    "plt.scatter(x = iris['Sepal.Length'], y = iris['Sepal.Width'])\n"
   ]
  },
  {
   "cell_type": "code",
   "execution_count": 9,
   "id": "f21f9ca4-30e7-4132-a3db-1b9a0262ab79",
   "metadata": {},
   "outputs": [
    {
     "data": {
      "text/plain": [
       "<AxesSubplot: >"
      ]
     },
     "execution_count": 9,
     "metadata": {},
     "output_type": "execute_result"
    },
    {
     "data": {
      "image/png": "[encoded data removed]",
      "text/plain": [
       "<Figure size 640x480 with 1 Axes>"
      ]
     },
     "metadata": {},
     "output_type": "display_data"
    }
   ],
   "source": [
    "new_data = iris[[\"Sepal.Length\", \"Sepal.Width\", \"Petal.Length\", \"Petal.Width\"]]\n",
    "new_data.boxplot()"
   ]
  },
  {
   "cell_type": "code",
   "execution_count": 10,
   "id": "608ac5eb-f5f1-48aa-88be-ec6b4f64e294",
   "metadata": {},
   "outputs": [
    {
     "data": {
      "text/plain": [
       "Text(0, 0.5, 'Values')"
      ]
     },
     "execution_count": 10,
     "metadata": {},
     "output_type": "execute_result"
    },
    {
     "data": {
      "image/png": "[encoded data removed]",
      "text/plain": [
       "<Figure size 640x480 with 1 Axes>"
      ]
     },
     "metadata": {},
     "output_type": "display_data"
    }
   ],
   "source": [
    "new_data.boxplot()\n",
    "plt.title(\"Sample Boxplot\")\n",
    "plt.xlabel(\"Measurements\")\n",
    "plt.ylabel(\"Values\")"
   ]
  },
  {
   "cell_type": "code",
   "execution_count": 11,
   "id": "ff767bb0-2b05-44d5-a7fe-23b31732b61b",
   "metadata": {
    "tags": []
   },
   "outputs": [
    {
     "data": {
      "text/html": [
       "<div>\n",
       "<style scoped>\n",
       "    .dataframe tbody tr th:only-of-type {\n",
       "        vertical-align: middle;\n",
       "    }\n",
       "\n",
       "    .dataframe tbody tr th {\n",
       "        vertical-align: top;\n",
       "    }\n",
       "\n",
       "    .dataframe thead th {\n",
       "        text-align: right;\n",
       "    }\n",
       "</style>\n",
       "<table border=\"1\" class=\"dataframe\">\n",
       "  <thead>\n",
       "    <tr style=\"text-align: right;\">\n",
       "      <th></th>\n",
       "      <th>SepalLength</th>\n",
       "      <th>SepalWidth</th>\n",
       "      <th>PetalLength</th>\n",
       "      <th>PetalWidth</th>\n",
       "      <th>Species</th>\n",
       "    </tr>\n",
       "  </thead>\n",
       "  <tbody>\n",
       "    <tr>\n",
       "      <th>0</th>\n",
       "      <td>5.1</td>\n",
       "      <td>3.5</td>\n",
       "      <td>1.4</td>\n",
       "      <td>0.2</td>\n",
       "      <td>setosa</td>\n",
       "    </tr>\n",
       "    <tr>\n",
       "      <th>1</th>\n",
       "      <td>4.9</td>\n",
       "      <td>3.0</td>\n",
       "      <td>1.4</td>\n",
       "      <td>0.2</td>\n",
       "      <td>setosa</td>\n",
       "    </tr>\n",
       "    <tr>\n",
       "      <th>2</th>\n",
       "      <td>4.7</td>\n",
       "      <td>3.2</td>\n",
       "      <td>1.3</td>\n",
       "      <td>0.2</td>\n",
       "      <td>setosa</td>\n",
       "    </tr>\n",
       "    <tr>\n",
       "      <th>3</th>\n",
       "      <td>4.6</td>\n",
       "      <td>3.1</td>\n",
       "      <td>1.5</td>\n",
       "      <td>0.2</td>\n",
       "      <td>setosa</td>\n",
       "    </tr>\n",
       "    <tr>\n",
       "      <th>4</th>\n",
       "      <td>5.0</td>\n",
       "      <td>3.6</td>\n",
       "      <td>1.4</td>\n",
       "      <td>0.2</td>\n",
       "      <td>setosa</td>\n",
       "    </tr>\n",
       "    <tr>\n",
       "      <th>...</th>\n",
       "      <td>...</td>\n",
       "      <td>...</td>\n",
       "      <td>...</td>\n",
       "      <td>...</td>\n",
       "      <td>...</td>\n",
       "    </tr>\n",
       "    <tr>\n",
       "      <th>145</th>\n",
       "      <td>6.7</td>\n",
       "      <td>3.0</td>\n",
       "      <td>5.2</td>\n",
       "      <td>2.3</td>\n",
       "      <td>virginica</td>\n",
       "    </tr>\n",
       "    <tr>\n",
       "      <th>146</th>\n",
       "      <td>6.3</td>\n",
       "      <td>2.5</td>\n",
       "      <td>5.0</td>\n",
       "      <td>1.9</td>\n",
       "      <td>virginica</td>\n",
       "    </tr>\n",
       "    <tr>\n",
       "      <th>147</th>\n",
       "      <td>6.5</td>\n",
       "      <td>3.0</td>\n",
       "      <td>5.2</td>\n",
       "      <td>2.0</td>\n",
       "      <td>virginica</td>\n",
       "    </tr>\n",
       "    <tr>\n",
       "      <th>148</th>\n",
       "      <td>6.2</td>\n",
       "      <td>3.4</td>\n",
       "      <td>5.4</td>\n",
       "      <td>2.3</td>\n",
       "      <td>virginica</td>\n",
       "    </tr>\n",
       "    <tr>\n",
       "      <th>149</th>\n",
       "      <td>5.9</td>\n",
       "      <td>3.0</td>\n",
       "      <td>5.1</td>\n",
       "      <td>1.8</td>\n",
       "      <td>virginica</td>\n",
       "    </tr>\n",
       "  </tbody>\n",
       "</table>\n",
       "<p>150 rows × 5 columns</p>\n",
       "</div>"
      ],
      "text/plain": [
       "     SepalLength  SepalWidth  PetalLength  PetalWidth    Species\n",
       "0            5.1         3.5          1.4         0.2     setosa\n",
       "1            4.9         3.0          1.4         0.2     setosa\n",
       "2            4.7         3.2          1.3         0.2     setosa\n",
       "3            4.6         3.1          1.5         0.2     setosa\n",
       "4            5.0         3.6          1.4         0.2     setosa\n",
       "..           ...         ...          ...         ...        ...\n",
       "145          6.7         3.0          5.2         2.3  virginica\n",
       "146          6.3         2.5          5.0         1.9  virginica\n",
       "147          6.5         3.0          5.2         2.0  virginica\n",
       "148          6.2         3.4          5.4         2.3  virginica\n",
       "149          5.9         3.0          5.1         1.8  virginica\n",
       "\n",
       "[150 rows x 5 columns]"
      ]
     },
     "execution_count": 11,
     "metadata": {},
     "output_type": "execute_result"
    }
   ],
   "source": [
    "# rename columns\n",
    "iris = iris.rename(columns={'Sepal.Length': 'SepalLength', \n",
    "                            'Sepal.Width': 'SepalWidth',\n",
    "                           'Petal.Length': 'PetalLength',\n",
    "                           'Petal.Width': 'PetalWidth'})\n",
    "iris"
   ]
  },
  {
   "cell_type": "code",
   "execution_count": 12,
   "id": "e18a4d28-5590-4d3f-874e-e2c3a501aa40",
   "metadata": {},
   "outputs": [
    {
     "data": {
      "text/plain": [
       "SepalLength    float64\n",
       "SepalWidth     float64\n",
       "PetalLength    float64\n",
       "PetalWidth     float64\n",
       "Species         object\n",
       "dtype: object"
      ]
     },
     "execution_count": 12,
     "metadata": {},
     "output_type": "execute_result"
    }
   ],
   "source": [
    "iris.dtypes"
   ]
  },
  {
   "cell_type": "code",
   "execution_count": 13,
   "id": "01222e85-8225-40f6-b4c6-b12103227f90",
   "metadata": {},
   "outputs": [
    {
     "name": "stderr",
     "output_type": "stream",
     "text": [
      "/opt/conda/lib/python3.10/site-packages/altair/utils/core.py:317: FutureWarning: iteritems is deprecated and will be removed in a future version. Use .items instead.\n",
      "  for col_name, dtype in df.dtypes.iteritems():\n"
     ]
    },
    {
     "data": {
      "text/html": [
       "\n",
       "<div id=\"altair-viz-9263459593fc48f5a1b53c982cc4db84\"></div>\n",
       "<script type=\"text/javascript\">\n",
       "  var VEGA_DEBUG = (typeof VEGA_DEBUG == \"undefined\") ? {} : VEGA_DEBUG;\n",
       "  (function(spec, embedOpt){\n",
       "    let outputDiv = document.currentScript.previousElementSibling;\n",
       "    if (outputDiv.id !== \"altair-viz-9263459593fc48f5a1b53c982cc4db84\") {\n",
       "      outputDiv = document.getElementById(\"altair-viz-9263459593fc48f5a1b53c982cc4db84\");\n",
       "    }\n",
       "    const paths = {\n",
       "      \"vega\": \"https://cdn.jsdelivr.net/npm//vega@5?noext\",\n",
       "      \"vega-lib\": \"https://cdn.jsdelivr.net/npm//vega-lib?noext\",\n",
       "      \"vega-lite\": \"https://cdn.jsdelivr.net/npm//vega-lite@4.17.0?noext\",\n",
       "      \"vega-embed\": \"https://cdn.jsdelivr.net/npm//vega-embed@6?noext\",\n",
       "    };\n",
       "\n",
       "    function maybeLoadScript(lib, version) {\n",
       "      var key = `${lib.replace(\"-\", \"\")}_version`;\n",
       "      return (VEGA_DEBUG[key] == version) ?\n",
       "        Promise.resolve(paths[lib]) :\n",
       "        new Promise(function(resolve, reject) {\n",
       "          var s = document.createElement('script');\n",
       "          document.getElementsByTagName(\"head\")[0].appendChild(s);\n",
       "          s.async = true;\n",
       "          s.onload = () => {\n",
       "            VEGA_DEBUG[key] = version;\n",
       "            return resolve(paths[lib]);\n",
       "          };\n",
       "          s.onerror = () => reject(`Error loading script: ${paths[lib]}`);\n",
       "          s.src = paths[lib];\n",
       "        });\n",
       "    }\n",
       "\n",
       "    function showError(err) {\n",
       "      outputDiv.innerHTML = `<div class=\"error\" style=\"color:red;\">${err}</div>`;\n",
       "      throw err;\n",
       "    }\n",
       "\n",
       "    function displayChart(vegaEmbed) {\n",
       "      vegaEmbed(outputDiv, spec, embedOpt)\n",
       "        .catch(err => showError(`Javascript Error: ${err.message}<br>This usually means there's a typo in your chart specification. See the javascript console for the full traceback.`));\n",
       "    }\n",
       "\n",
       "    if(typeof define === \"function\" && define.amd) {\n",
       "      requirejs.config({paths});\n",
       "      require([\"vega-embed\"], displayChart, err => showError(`Error loading script: ${err.message}`));\n",
       "    } else {\n",
       "      maybeLoadScript(\"vega\", \"5\")\n",
       "        .then(() => maybeLoadScript(\"vega-lite\", \"4.17.0\"))\n",
       "        .then(() => maybeLoadScript(\"vega-embed\", \"6\"))\n",
       "        .catch(showError)\n",
       "        .then(() => displayChart(vegaEmbed));\n",
       "    }\n",
       "  })({\"config\": {\"view\": {\"continuousWidth\": 400, \"continuousHeight\": 300}}, \"data\": {\"name\": \"data-d1be07d90518734e6d08167a291c95a9\"}, \"mark\": \"point\", \"encoding\": {\"x\": {\"field\": \"SepalLength\", \"type\": \"quantitative\"}, \"y\": {\"field\": \"SepalWidth\", \"type\": \"quantitative\"}}, \"$schema\": \"https://vega.github.io/schema/vega-lite/v4.17.0.json\", \"datasets\": {\"data-d1be07d90518734e6d08167a291c95a9\": [{\"SepalLength\": 5.1, \"SepalWidth\": 3.5, \"PetalLength\": 1.4, \"PetalWidth\": 0.2, \"Species\": \"setosa\"}, {\"SepalLength\": 4.9, \"SepalWidth\": 3.0, \"PetalLength\": 1.4, \"PetalWidth\": 0.2, \"Species\": \"setosa\"}, {\"SepalLength\": 4.7, \"SepalWidth\": 3.2, \"PetalLength\": 1.3, \"PetalWidth\": 0.2, \"Species\": \"setosa\"}, {\"SepalLength\": 4.6, \"SepalWidth\": 3.1, \"PetalLength\": 1.5, \"PetalWidth\": 0.2, \"Species\": \"setosa\"}, {\"SepalLength\": 5.0, \"SepalWidth\": 3.6, \"PetalLength\": 1.4, \"PetalWidth\": 0.2, \"Species\": \"setosa\"}, {\"SepalLength\": 5.4, \"SepalWidth\": 3.9, \"PetalLength\": 1.7, \"PetalWidth\": 0.4, \"Species\": \"setosa\"}, {\"SepalLength\": 4.6, \"SepalWidth\": 3.4, \"PetalLength\": 1.4, \"PetalWidth\": 0.3, \"Species\": \"setosa\"}, {\"SepalLength\": 5.0, \"SepalWidth\": 3.4, \"PetalLength\": 1.5, \"PetalWidth\": 0.2, \"Species\": \"setosa\"}, {\"SepalLength\": 4.4, \"SepalWidth\": 2.9, \"PetalLength\": 1.4, \"PetalWidth\": 0.2, \"Species\": \"setosa\"}, {\"SepalLength\": 4.9, \"SepalWidth\": 3.1, \"PetalLength\": 1.5, \"PetalWidth\": 0.1, \"Species\": \"setosa\"}, {\"SepalLength\": 5.4, \"SepalWidth\": 3.7, \"PetalLength\": 1.5, \"PetalWidth\": 0.2, \"Species\": \"setosa\"}, {\"SepalLength\": 4.8, \"SepalWidth\": 3.4, \"PetalLength\": 1.6, \"PetalWidth\": 0.2, \"Species\": \"setosa\"}, {\"SepalLength\": 4.8, \"SepalWidth\": 3.0, \"PetalLength\": 1.4, \"PetalWidth\": 0.1, \"Species\": \"setosa\"}, {\"SepalLength\": 4.3, \"SepalWidth\": 3.0, \"PetalLength\": 1.1, \"PetalWidth\": 0.1, \"Species\": \"setosa\"}, {\"SepalLength\": 5.8, \"SepalWidth\": 4.0, \"PetalLength\": 1.2, \"PetalWidth\": 0.2, \"Species\": \"setosa\"}, {\"SepalLength\": 5.7, \"SepalWidth\": 4.4, \"PetalLength\": 1.5, \"PetalWidth\": 0.4, \"Species\": \"setosa\"}, {\"SepalLength\": 5.4, \"SepalWidth\": 3.9, \"PetalLength\": 1.3, \"PetalWidth\": 0.4, \"Species\": \"setosa\"}, {\"SepalLength\": 5.1, \"SepalWidth\": 3.5, \"PetalLength\": 1.4, \"PetalWidth\": 0.3, \"Species\": \"setosa\"}, {\"SepalLength\": 5.7, \"SepalWidth\": 3.8, \"PetalLength\": 1.7, \"PetalWidth\": 0.3, \"Species\": \"setosa\"}, {\"SepalLength\": 5.1, \"SepalWidth\": 3.8, \"PetalLength\": 1.5, \"PetalWidth\": 0.3, \"Species\": \"setosa\"}, {\"SepalLength\": 5.4, \"SepalWidth\": 3.4, \"PetalLength\": 1.7, \"PetalWidth\": 0.2, \"Species\": \"setosa\"}, {\"SepalLength\": 5.1, \"SepalWidth\": 3.7, \"PetalLength\": 1.5, \"PetalWidth\": 0.4, \"Species\": \"setosa\"}, {\"SepalLength\": 4.6, \"SepalWidth\": 3.6, \"PetalLength\": 1.0, \"PetalWidth\": 0.2, \"Species\": \"setosa\"}, {\"SepalLength\": 5.1, \"SepalWidth\": 3.3, \"PetalLength\": 1.7, \"PetalWidth\": 0.5, \"Species\": \"setosa\"}, {\"SepalLength\": 4.8, \"SepalWidth\": 3.4, \"PetalLength\": 1.9, \"PetalWidth\": 0.2, \"Species\": \"setosa\"}, {\"SepalLength\": 5.0, \"SepalWidth\": 3.0, \"PetalLength\": 1.6, \"PetalWidth\": 0.2, \"Species\": \"setosa\"}, {\"SepalLength\": 5.0, \"SepalWidth\": 3.4, \"PetalLength\": 1.6, \"PetalWidth\": 0.4, \"Species\": \"setosa\"}, {\"SepalLength\": 5.2, \"SepalWidth\": 3.5, \"PetalLength\": 1.5, \"PetalWidth\": 0.2, \"Species\": \"setosa\"}, {\"SepalLength\": 5.2, \"SepalWidth\": 3.4, \"PetalLength\": 1.4, \"PetalWidth\": 0.2, \"Species\": \"setosa\"}, {\"SepalLength\": 4.7, \"SepalWidth\": 3.2, \"PetalLength\": 1.6, \"PetalWidth\": 0.2, \"Species\": \"setosa\"}, {\"SepalLength\": 4.8, \"SepalWidth\": 3.1, \"PetalLength\": 1.6, \"PetalWidth\": 0.2, \"Species\": \"setosa\"}, {\"SepalLength\": 5.4, \"SepalWidth\": 3.4, \"PetalLength\": 1.5, \"PetalWidth\": 0.4, \"Species\": \"setosa\"}, {\"SepalLength\": 5.2, \"SepalWidth\": 4.1, \"PetalLength\": 1.5, \"PetalWidth\": 0.1, \"Species\": \"setosa\"}, {\"SepalLength\": 5.5, \"SepalWidth\": 4.2, \"PetalLength\": 1.4, \"PetalWidth\": 0.2, \"Species\": \"setosa\"}, {\"SepalLength\": 4.9, \"SepalWidth\": 3.1, \"PetalLength\": 1.5, \"PetalWidth\": 0.2, \"Species\": \"setosa\"}, {\"SepalLength\": 5.0, \"SepalWidth\": 3.2, \"PetalLength\": 1.2, \"PetalWidth\": 0.2, \"Species\": \"setosa\"}, {\"SepalLength\": 5.5, \"SepalWidth\": 3.5, \"PetalLength\": 1.3, \"PetalWidth\": 0.2, \"Species\": \"setosa\"}, {\"SepalLength\": 4.9, \"SepalWidth\": 3.6, \"PetalLength\": 1.4, \"PetalWidth\": 0.1, \"Species\": \"setosa\"}, {\"SepalLength\": 4.4, \"SepalWidth\": 3.0, \"PetalLength\": 1.3, \"PetalWidth\": 0.2, \"Species\": \"setosa\"}, {\"SepalLength\": 5.1, \"SepalWidth\": 3.4, \"PetalLength\": 1.5, \"PetalWidth\": 0.2, \"Species\": \"setosa\"}, {\"SepalLength\": 5.0, \"SepalWidth\": 3.5, \"PetalLength\": 1.3, \"PetalWidth\": 0.3, \"Species\": \"setosa\"}, {\"SepalLength\": 4.5, \"SepalWidth\": 2.3, \"PetalLength\": 1.3, \"PetalWidth\": 0.3, \"Species\": \"setosa\"}, {\"SepalLength\": 4.4, \"SepalWidth\": 3.2, \"PetalLength\": 1.3, \"PetalWidth\": 0.2, \"Species\": \"setosa\"}, {\"SepalLength\": 5.0, \"SepalWidth\": 3.5, \"PetalLength\": 1.6, \"PetalWidth\": 0.6, \"Species\": \"setosa\"}, {\"SepalLength\": 5.1, \"SepalWidth\": 3.8, \"PetalLength\": 1.9, \"PetalWidth\": 0.4, \"Species\": \"setosa\"}, {\"SepalLength\": 4.8, \"SepalWidth\": 3.0, \"PetalLength\": 1.4, \"PetalWidth\": 0.3, \"Species\": \"setosa\"}, {\"SepalLength\": 5.1, \"SepalWidth\": 3.8, \"PetalLength\": 1.6, \"PetalWidth\": 0.2, \"Species\": \"setosa\"}, {\"SepalLength\": 4.6, \"SepalWidth\": 3.2, \"PetalLength\": 1.4, \"PetalWidth\": 0.2, \"Species\": \"setosa\"}, {\"SepalLength\": 5.3, \"SepalWidth\": 3.7, \"PetalLength\": 1.5, \"PetalWidth\": 0.2, \"Species\": \"setosa\"}, {\"SepalLength\": 5.0, \"SepalWidth\": 3.3, \"PetalLength\": 1.4, \"PetalWidth\": 0.2, \"Species\": \"setosa\"}, {\"SepalLength\": 7.0, \"SepalWidth\": 3.2, \"PetalLength\": 4.7, \"PetalWidth\": 1.4, \"Species\": \"versicolor\"}, {\"SepalLength\": 6.4, \"SepalWidth\": 3.2, \"PetalLength\": 4.5, \"PetalWidth\": 1.5, \"Species\": \"versicolor\"}, {\"SepalLength\": 6.9, \"SepalWidth\": 3.1, \"PetalLength\": 4.9, \"PetalWidth\": 1.5, \"Species\": \"versicolor\"}, {\"SepalLength\": 5.5, \"SepalWidth\": 2.3, \"PetalLength\": 4.0, \"PetalWidth\": 1.3, \"Species\": \"versicolor\"}, {\"SepalLength\": 6.5, \"SepalWidth\": 2.8, \"PetalLength\": 4.6, \"PetalWidth\": 1.5, \"Species\": \"versicolor\"}, {\"SepalLength\": 5.7, \"SepalWidth\": 2.8, \"PetalLength\": 4.5, \"PetalWidth\": 1.3, \"Species\": \"versicolor\"}, {\"SepalLength\": 6.3, \"SepalWidth\": 3.3, \"PetalLength\": 4.7, \"PetalWidth\": 1.6, \"Species\": \"versicolor\"}, {\"SepalLength\": 4.9, \"SepalWidth\": 2.4, \"PetalLength\": 3.3, \"PetalWidth\": 1.0, \"Species\": \"versicolor\"}, {\"SepalLength\": 6.6, \"SepalWidth\": 2.9, \"PetalLength\": 4.6, \"PetalWidth\": 1.3, \"Species\": \"versicolor\"}, {\"SepalLength\": 5.2, \"SepalWidth\": 2.7, \"PetalLength\": 3.9, \"PetalWidth\": 1.4, \"Species\": \"versicolor\"}, {\"SepalLength\": 5.0, \"SepalWidth\": 2.0, \"PetalLength\": 3.5, \"PetalWidth\": 1.0, \"Species\": \"versicolor\"}, {\"SepalLength\": 5.9, \"SepalWidth\": 3.0, \"PetalLength\": 4.2, \"PetalWidth\": 1.5, \"Species\": \"versicolor\"}, {\"SepalLength\": 6.0, \"SepalWidth\": 2.2, \"PetalLength\": 4.0, \"PetalWidth\": 1.0, \"Species\": \"versicolor\"}, {\"SepalLength\": 6.1, \"SepalWidth\": 2.9, \"PetalLength\": 4.7, \"PetalWidth\": 1.4, \"Species\": \"versicolor\"}, {\"SepalLength\": 5.6, \"SepalWidth\": 2.9, \"PetalLength\": 3.6, \"PetalWidth\": 1.3, \"Species\": \"versicolor\"}, {\"SepalLength\": 6.7, \"SepalWidth\": 3.1, \"PetalLength\": 4.4, \"PetalWidth\": 1.4, \"Species\": \"versicolor\"}, {\"SepalLength\": 5.6, \"SepalWidth\": 3.0, \"PetalLength\": 4.5, \"PetalWidth\": 1.5, \"Species\": \"versicolor\"}, {\"SepalLength\": 5.8, \"SepalWidth\": 2.7, \"PetalLength\": 4.1, \"PetalWidth\": 1.0, \"Species\": \"versicolor\"}, {\"SepalLength\": 6.2, \"SepalWidth\": 2.2, \"PetalLength\": 4.5, \"PetalWidth\": 1.5, \"Species\": \"versicolor\"}, {\"SepalLength\": 5.6, \"SepalWidth\": 2.5, \"PetalLength\": 3.9, \"PetalWidth\": 1.1, \"Species\": \"versicolor\"}, {\"SepalLength\": 5.9, \"SepalWidth\": 3.2, \"PetalLength\": 4.8, \"PetalWidth\": 1.8, \"Species\": \"versicolor\"}, {\"SepalLength\": 6.1, \"SepalWidth\": 2.8, \"PetalLength\": 4.0, \"PetalWidth\": 1.3, \"Species\": \"versicolor\"}, {\"SepalLength\": 6.3, \"SepalWidth\": 2.5, \"PetalLength\": 4.9, \"PetalWidth\": 1.5, \"Species\": \"versicolor\"}, {\"SepalLength\": 6.1, \"SepalWidth\": 2.8, \"PetalLength\": 4.7, \"PetalWidth\": 1.2, \"Species\": \"versicolor\"}, {\"SepalLength\": 6.4, \"SepalWidth\": 2.9, \"PetalLength\": 4.3, \"PetalWidth\": 1.3, \"Species\": \"versicolor\"}, {\"SepalLength\": 6.6, \"SepalWidth\": 3.0, \"PetalLength\": 4.4, \"PetalWidth\": 1.4, \"Species\": \"versicolor\"}, {\"SepalLength\": 6.8, \"SepalWidth\": 2.8, \"PetalLength\": 4.8, \"PetalWidth\": 1.4, \"Species\": \"versicolor\"}, {\"SepalLength\": 6.7, \"SepalWidth\": 3.0, \"PetalLength\": 5.0, \"PetalWidth\": 1.7, \"Species\": \"versicolor\"}, {\"SepalLength\": 6.0, \"SepalWidth\": 2.9, \"PetalLength\": 4.5, \"PetalWidth\": 1.5, \"Species\": \"versicolor\"}, {\"SepalLength\": 5.7, \"SepalWidth\": 2.6, \"PetalLength\": 3.5, \"PetalWidth\": 1.0, \"Species\": \"versicolor\"}, {\"SepalLength\": 5.5, \"SepalWidth\": 2.4, \"PetalLength\": 3.8, \"PetalWidth\": 1.1, \"Species\": \"versicolor\"}, {\"SepalLength\": 5.5, \"SepalWidth\": 2.4, \"PetalLength\": 3.7, \"PetalWidth\": 1.0, \"Species\": \"versicolor\"}, {\"SepalLength\": 5.8, \"SepalWidth\": 2.7, \"PetalLength\": 3.9, \"PetalWidth\": 1.2, \"Species\": \"versicolor\"}, {\"SepalLength\": 6.0, \"SepalWidth\": 2.7, \"PetalLength\": 5.1, \"PetalWidth\": 1.6, \"Species\": \"versicolor\"}, {\"SepalLength\": 5.4, \"SepalWidth\": 3.0, \"PetalLength\": 4.5, \"PetalWidth\": 1.5, \"Species\": \"versicolor\"}, {\"SepalLength\": 6.0, \"SepalWidth\": 3.4, \"PetalLength\": 4.5, \"PetalWidth\": 1.6, \"Species\": \"versicolor\"}, {\"SepalLength\": 6.7, \"SepalWidth\": 3.1, \"PetalLength\": 4.7, \"PetalWidth\": 1.5, \"Species\": \"versicolor\"}, {\"SepalLength\": 6.3, \"SepalWidth\": 2.3, \"PetalLength\": 4.4, \"PetalWidth\": 1.3, \"Species\": \"versicolor\"}, {\"SepalLength\": 5.6, \"SepalWidth\": 3.0, \"PetalLength\": 4.1, \"PetalWidth\": 1.3, \"Species\": \"versicolor\"}, {\"SepalLength\": 5.5, \"SepalWidth\": 2.5, \"PetalLength\": 4.0, \"PetalWidth\": 1.3, \"Species\": \"versicolor\"}, {\"SepalLength\": 5.5, \"SepalWidth\": 2.6, \"PetalLength\": 4.4, \"PetalWidth\": 1.2, \"Species\": \"versicolor\"}, {\"SepalLength\": 6.1, \"SepalWidth\": 3.0, \"PetalLength\": 4.6, \"PetalWidth\": 1.4, \"Species\": \"versicolor\"}, {\"SepalLength\": 5.8, \"SepalWidth\": 2.6, \"PetalLength\": 4.0, \"PetalWidth\": 1.2, \"Species\": \"versicolor\"}, {\"SepalLength\": 5.0, \"SepalWidth\": 2.3, \"PetalLength\": 3.3, \"PetalWidth\": 1.0, \"Species\": \"versicolor\"}, {\"SepalLength\": 5.6, \"SepalWidth\": 2.7, \"PetalLength\": 4.2, \"PetalWidth\": 1.3, \"Species\": \"versicolor\"}, {\"SepalLength\": 5.7, \"SepalWidth\": 3.0, \"PetalLength\": 4.2, \"PetalWidth\": 1.2, \"Species\": \"versicolor\"}, {\"SepalLength\": 5.7, \"SepalWidth\": 2.9, \"PetalLength\": 4.2, \"PetalWidth\": 1.3, \"Species\": \"versicolor\"}, {\"SepalLength\": 6.2, \"SepalWidth\": 2.9, \"PetalLength\": 4.3, \"PetalWidth\": 1.3, \"Species\": \"versicolor\"}, {\"SepalLength\": 5.1, \"SepalWidth\": 2.5, \"PetalLength\": 3.0, \"PetalWidth\": 1.1, \"Species\": \"versicolor\"}, {\"SepalLength\": 5.7, \"SepalWidth\": 2.8, \"PetalLength\": 4.1, \"PetalWidth\": 1.3, \"Species\": \"versicolor\"}, {\"SepalLength\": 6.3, \"SepalWidth\": 3.3, \"PetalLength\": 6.0, \"PetalWidth\": 2.5, \"Species\": \"virginica\"}, {\"SepalLength\": 5.8, \"SepalWidth\": 2.7, \"PetalLength\": 5.1, \"PetalWidth\": 1.9, \"Species\": \"virginica\"}, {\"SepalLength\": 7.1, \"SepalWidth\": 3.0, \"PetalLength\": 5.9, \"PetalWidth\": 2.1, \"Species\": \"virginica\"}, {\"SepalLength\": 6.3, \"SepalWidth\": 2.9, \"PetalLength\": 5.6, \"PetalWidth\": 1.8, \"Species\": \"virginica\"}, {\"SepalLength\": 6.5, \"SepalWidth\": 3.0, \"PetalLength\": 5.8, \"PetalWidth\": 2.2, \"Species\": \"virginica\"}, {\"SepalLength\": 7.6, \"SepalWidth\": 3.0, \"PetalLength\": 6.6, \"PetalWidth\": 2.1, \"Species\": \"virginica\"}, {\"SepalLength\": 4.9, \"SepalWidth\": 2.5, \"PetalLength\": 4.5, \"PetalWidth\": 1.7, \"Species\": \"virginica\"}, {\"SepalLength\": 7.3, \"SepalWidth\": 2.9, \"PetalLength\": 6.3, \"PetalWidth\": 1.8, \"Species\": \"virginica\"}, {\"SepalLength\": 6.7, \"SepalWidth\": 2.5, \"PetalLength\": 5.8, \"PetalWidth\": 1.8, \"Species\": \"virginica\"}, {\"SepalLength\": 7.2, \"SepalWidth\": 3.6, \"PetalLength\": 6.1, \"PetalWidth\": 2.5, \"Species\": \"virginica\"}, {\"SepalLength\": 6.5, \"SepalWidth\": 3.2, \"PetalLength\": 5.1, \"PetalWidth\": 2.0, \"Species\": \"virginica\"}, {\"SepalLength\": 6.4, \"SepalWidth\": 2.7, \"PetalLength\": 5.3, \"PetalWidth\": 1.9, \"Species\": \"virginica\"}, {\"SepalLength\": 6.8, \"SepalWidth\": 3.0, \"PetalLength\": 5.5, \"PetalWidth\": 2.1, \"Species\": \"virginica\"}, {\"SepalLength\": 5.7, \"SepalWidth\": 2.5, \"PetalLength\": 5.0, \"PetalWidth\": 2.0, \"Species\": \"virginica\"}, {\"SepalLength\": 5.8, \"SepalWidth\": 2.8, \"PetalLength\": 5.1, \"PetalWidth\": 2.4, \"Species\": \"virginica\"}, {\"SepalLength\": 6.4, \"SepalWidth\": 3.2, \"PetalLength\": 5.3, \"PetalWidth\": 2.3, \"Species\": \"virginica\"}, {\"SepalLength\": 6.5, \"SepalWidth\": 3.0, \"PetalLength\": 5.5, \"PetalWidth\": 1.8, \"Species\": \"virginica\"}, {\"SepalLength\": 7.7, \"SepalWidth\": 3.8, \"PetalLength\": 6.7, \"PetalWidth\": 2.2, \"Species\": \"virginica\"}, {\"SepalLength\": 7.7, \"SepalWidth\": 2.6, \"PetalLength\": 6.9, \"PetalWidth\": 2.3, \"Species\": \"virginica\"}, {\"SepalLength\": 6.0, \"SepalWidth\": 2.2, \"PetalLength\": 5.0, \"PetalWidth\": 1.5, \"Species\": \"virginica\"}, {\"SepalLength\": 6.9, \"SepalWidth\": 3.2, \"PetalLength\": 5.7, \"PetalWidth\": 2.3, \"Species\": \"virginica\"}, {\"SepalLength\": 5.6, \"SepalWidth\": 2.8, \"PetalLength\": 4.9, \"PetalWidth\": 2.0, \"Species\": \"virginica\"}, {\"SepalLength\": 7.7, \"SepalWidth\": 2.8, \"PetalLength\": 6.7, \"PetalWidth\": 2.0, \"Species\": \"virginica\"}, {\"SepalLength\": 6.3, \"SepalWidth\": 2.7, \"PetalLength\": 4.9, \"PetalWidth\": 1.8, \"Species\": \"virginica\"}, {\"SepalLength\": 6.7, \"SepalWidth\": 3.3, \"PetalLength\": 5.7, \"PetalWidth\": 2.1, \"Species\": \"virginica\"}, {\"SepalLength\": 7.2, \"SepalWidth\": 3.2, \"PetalLength\": 6.0, \"PetalWidth\": 1.8, \"Species\": \"virginica\"}, {\"SepalLength\": 6.2, \"SepalWidth\": 2.8, \"PetalLength\": 4.8, \"PetalWidth\": 1.8, \"Species\": \"virginica\"}, {\"SepalLength\": 6.1, \"SepalWidth\": 3.0, \"PetalLength\": 4.9, \"PetalWidth\": 1.8, \"Species\": \"virginica\"}, {\"SepalLength\": 6.4, \"SepalWidth\": 2.8, \"PetalLength\": 5.6, \"PetalWidth\": 2.1, \"Species\": \"virginica\"}, {\"SepalLength\": 7.2, \"SepalWidth\": 3.0, \"PetalLength\": 5.8, \"PetalWidth\": 1.6, \"Species\": \"virginica\"}, {\"SepalLength\": 7.4, \"SepalWidth\": 2.8, \"PetalLength\": 6.1, \"PetalWidth\": 1.9, \"Species\": \"virginica\"}, {\"SepalLength\": 7.9, \"SepalWidth\": 3.8, \"PetalLength\": 6.4, \"PetalWidth\": 2.0, \"Species\": \"virginica\"}, {\"SepalLength\": 6.4, \"SepalWidth\": 2.8, \"PetalLength\": 5.6, \"PetalWidth\": 2.2, \"Species\": \"virginica\"}, {\"SepalLength\": 6.3, \"SepalWidth\": 2.8, \"PetalLength\": 5.1, \"PetalWidth\": 1.5, \"Species\": \"virginica\"}, {\"SepalLength\": 6.1, \"SepalWidth\": 2.6, \"PetalLength\": 5.6, \"PetalWidth\": 1.4, \"Species\": \"virginica\"}, {\"SepalLength\": 7.7, \"SepalWidth\": 3.0, \"PetalLength\": 6.1, \"PetalWidth\": 2.3, \"Species\": \"virginica\"}, {\"SepalLength\": 6.3, \"SepalWidth\": 3.4, \"PetalLength\": 5.6, \"PetalWidth\": 2.4, \"Species\": \"virginica\"}, {\"SepalLength\": 6.4, \"SepalWidth\": 3.1, \"PetalLength\": 5.5, \"PetalWidth\": 1.8, \"Species\": \"virginica\"}, {\"SepalLength\": 6.0, \"SepalWidth\": 3.0, \"PetalLength\": 4.8, \"PetalWidth\": 1.8, \"Species\": \"virginica\"}, {\"SepalLength\": 6.9, \"SepalWidth\": 3.1, \"PetalLength\": 5.4, \"PetalWidth\": 2.1, \"Species\": \"virginica\"}, {\"SepalLength\": 6.7, \"SepalWidth\": 3.1, \"PetalLength\": 5.6, \"PetalWidth\": 2.4, \"Species\": \"virginica\"}, {\"SepalLength\": 6.9, \"SepalWidth\": 3.1, \"PetalLength\": 5.1, \"PetalWidth\": 2.3, \"Species\": \"virginica\"}, {\"SepalLength\": 5.8, \"SepalWidth\": 2.7, \"PetalLength\": 5.1, \"PetalWidth\": 1.9, \"Species\": \"virginica\"}, {\"SepalLength\": 6.8, \"SepalWidth\": 3.2, \"PetalLength\": 5.9, \"PetalWidth\": 2.3, \"Species\": \"virginica\"}, {\"SepalLength\": 6.7, \"SepalWidth\": 3.3, \"PetalLength\": 5.7, \"PetalWidth\": 2.5, \"Species\": \"virginica\"}, {\"SepalLength\": 6.7, \"SepalWidth\": 3.0, \"PetalLength\": 5.2, \"PetalWidth\": 2.3, \"Species\": \"virginica\"}, {\"SepalLength\": 6.3, \"SepalWidth\": 2.5, \"PetalLength\": 5.0, \"PetalWidth\": 1.9, \"Species\": \"virginica\"}, {\"SepalLength\": 6.5, \"SepalWidth\": 3.0, \"PetalLength\": 5.2, \"PetalWidth\": 2.0, \"Species\": \"virginica\"}, {\"SepalLength\": 6.2, \"SepalWidth\": 3.4, \"PetalLength\": 5.4, \"PetalWidth\": 2.3, \"Species\": \"virginica\"}, {\"SepalLength\": 5.9, \"SepalWidth\": 3.0, \"PetalLength\": 5.1, \"PetalWidth\": 1.8, \"Species\": \"virginica\"}]}}, {\"mode\": \"vega-lite\"});\n",
       "</script>"
      ],
      "text/plain": [
       "alt.Chart(...)"
      ]
     },
     "execution_count": 13,
     "metadata": {},
     "output_type": "execute_result"
    }
   ],
   "source": [
    "import altair as alt\n",
    "alt.Chart(iris).mark_point().encode(\n",
    "      x = 'SepalLength',\n",
    "      y = 'SepalWidth'\n",
    ")"
   ]
  },
  {
   "cell_type": "code",
   "execution_count": 14,
   "id": "87ccf301-0500-44ab-b149-9b532a4e8736",
   "metadata": {},
   "outputs": [
    {
     "data": {
      "text/html": [
       "\n",
       "<div id=\"altair-viz-545243b232814cc3af3a608df94b785a\"></div>\n",
       "<script type=\"text/javascript\">\n",
       "  var VEGA_DEBUG = (typeof VEGA_DEBUG == \"undefined\") ? {} : VEGA_DEBUG;\n",
       "  (function(spec, embedOpt){\n",
       "    let outputDiv = document.currentScript.previousElementSibling;\n",
       "    if (outputDiv.id !== \"altair-viz-545243b232814cc3af3a608df94b785a\") {\n",
       "      outputDiv = document.getElementById(\"altair-viz-545243b232814cc3af3a608df94b785a\");\n",
       "    }\n",
       "    const paths = {\n",
       "      \"vega\": \"https://cdn.jsdelivr.net/npm//vega@5?noext\",\n",
       "      \"vega-lib\": \"https://cdn.jsdelivr.net/npm//vega-lib?noext\",\n",
       "      \"vega-lite\": \"https://cdn.jsdelivr.net/npm//vega-lite@4.17.0?noext\",\n",
       "      \"vega-embed\": \"https://cdn.jsdelivr.net/npm//vega-embed@6?noext\",\n",
       "    };\n",
       "\n",
       "    function maybeLoadScript(lib, version) {\n",
       "      var key = `${lib.replace(\"-\", \"\")}_version`;\n",
       "      return (VEGA_DEBUG[key] == version) ?\n",
       "        Promise.resolve(paths[lib]) :\n",
       "        new Promise(function(resolve, reject) {\n",
       "          var s = document.createElement('script');\n",
       "          document.getElementsByTagName(\"head\")[0].appendChild(s);\n",
       "          s.async = true;\n",
       "          s.onload = () => {\n",
       "            VEGA_DEBUG[key] = version;\n",
       "            return resolve(paths[lib]);\n",
       "          };\n",
       "          s.onerror = () => reject(`Error loading script: ${paths[lib]}`);\n",
       "          s.src = paths[lib];\n",
       "        });\n",
       "    }\n",
       "\n",
       "    function showError(err) {\n",
       "      outputDiv.innerHTML = `<div class=\"error\" style=\"color:red;\">${err}</div>`;\n",
       "      throw err;\n",
       "    }\n",
       "\n",
       "    function displayChart(vegaEmbed) {\n",
       "      vegaEmbed(outputDiv, spec, embedOpt)\n",
       "        .catch(err => showError(`Javascript Error: ${err.message}<br>This usually means there's a typo in your chart specification. See the javascript console for the full traceback.`));\n",
       "    }\n",
       "\n",
       "    if(typeof define === \"function\" && define.amd) {\n",
       "      requirejs.config({paths});\n",
       "      require([\"vega-embed\"], displayChart, err => showError(`Error loading script: ${err.message}`));\n",
       "    } else {\n",
       "      maybeLoadScript(\"vega\", \"5\")\n",
       "        .then(() => maybeLoadScript(\"vega-lite\", \"4.17.0\"))\n",
       "        .then(() => maybeLoadScript(\"vega-embed\", \"6\"))\n",
       "        .catch(showError)\n",
       "        .then(() => displayChart(vegaEmbed));\n",
       "    }\n",
       "  })({\"config\": {\"view\": {\"continuousWidth\": 400, \"continuousHeight\": 300}}, \"data\": {\"name\": \"data-d1be07d90518734e6d08167a291c95a9\"}, \"mark\": \"point\", \"encoding\": {\"color\": {\"field\": \"Species\", \"type\": \"nominal\"}, \"x\": {\"field\": \"SepalLength\", \"scale\": {\"domain\": [4, 9]}, \"title\": \"Sepal Length\", \"type\": \"quantitative\"}, \"y\": {\"field\": \"SepalWidth\", \"scale\": {\"domain\": [1.5, 4.5]}, \"title\": \"Sepal Width\", \"type\": \"quantitative\"}}, \"title\": \"Comparing Sepal Length to Sepal Width\", \"$schema\": \"https://vega.github.io/schema/vega-lite/v4.17.0.json\", \"datasets\": {\"data-d1be07d90518734e6d08167a291c95a9\": [{\"SepalLength\": 5.1, \"SepalWidth\": 3.5, \"PetalLength\": 1.4, \"PetalWidth\": 0.2, \"Species\": \"setosa\"}, {\"SepalLength\": 4.9, \"SepalWidth\": 3.0, \"PetalLength\": 1.4, \"PetalWidth\": 0.2, \"Species\": \"setosa\"}, {\"SepalLength\": 4.7, \"SepalWidth\": 3.2, \"PetalLength\": 1.3, \"PetalWidth\": 0.2, \"Species\": \"setosa\"}, {\"SepalLength\": 4.6, \"SepalWidth\": 3.1, \"PetalLength\": 1.5, \"PetalWidth\": 0.2, \"Species\": \"setosa\"}, {\"SepalLength\": 5.0, \"SepalWidth\": 3.6, \"PetalLength\": 1.4, \"PetalWidth\": 0.2, \"Species\": \"setosa\"}, {\"SepalLength\": 5.4, \"SepalWidth\": 3.9, \"PetalLength\": 1.7, \"PetalWidth\": 0.4, \"Species\": \"setosa\"}, {\"SepalLength\": 4.6, \"SepalWidth\": 3.4, \"PetalLength\": 1.4, \"PetalWidth\": 0.3, \"Species\": \"setosa\"}, {\"SepalLength\": 5.0, \"SepalWidth\": 3.4, \"PetalLength\": 1.5, \"PetalWidth\": 0.2, \"Species\": \"setosa\"}, {\"SepalLength\": 4.4, \"SepalWidth\": 2.9, \"PetalLength\": 1.4, \"PetalWidth\": 0.2, \"Species\": \"setosa\"}, {\"SepalLength\": 4.9, \"SepalWidth\": 3.1, \"PetalLength\": 1.5, \"PetalWidth\": 0.1, \"Species\": \"setosa\"}, {\"SepalLength\": 5.4, \"SepalWidth\": 3.7, \"PetalLength\": 1.5, \"PetalWidth\": 0.2, \"Species\": \"setosa\"}, {\"SepalLength\": 4.8, \"SepalWidth\": 3.4, \"PetalLength\": 1.6, \"PetalWidth\": 0.2, \"Species\": \"setosa\"}, {\"SepalLength\": 4.8, \"SepalWidth\": 3.0, \"PetalLength\": 1.4, \"PetalWidth\": 0.1, \"Species\": \"setosa\"}, {\"SepalLength\": 4.3, \"SepalWidth\": 3.0, \"PetalLength\": 1.1, \"PetalWidth\": 0.1, \"Species\": \"setosa\"}, {\"SepalLength\": 5.8, \"SepalWidth\": 4.0, \"PetalLength\": 1.2, \"PetalWidth\": 0.2, \"Species\": \"setosa\"}, {\"SepalLength\": 5.7, \"SepalWidth\": 4.4, \"PetalLength\": 1.5, \"PetalWidth\": 0.4, \"Species\": \"setosa\"}, {\"SepalLength\": 5.4, \"SepalWidth\": 3.9, \"PetalLength\": 1.3, \"PetalWidth\": 0.4, \"Species\": \"setosa\"}, {\"SepalLength\": 5.1, \"SepalWidth\": 3.5, \"PetalLength\": 1.4, \"PetalWidth\": 0.3, \"Species\": \"setosa\"}, {\"SepalLength\": 5.7, \"SepalWidth\": 3.8, \"PetalLength\": 1.7, \"PetalWidth\": 0.3, \"Species\": \"setosa\"}, {\"SepalLength\": 5.1, \"SepalWidth\": 3.8, \"PetalLength\": 1.5, \"PetalWidth\": 0.3, \"Species\": \"setosa\"}, {\"SepalLength\": 5.4, \"SepalWidth\": 3.4, \"PetalLength\": 1.7, \"PetalWidth\": 0.2, \"Species\": \"setosa\"}, {\"SepalLength\": 5.1, \"SepalWidth\": 3.7, \"PetalLength\": 1.5, \"PetalWidth\": 0.4, \"Species\": \"setosa\"}, {\"SepalLength\": 4.6, \"SepalWidth\": 3.6, \"PetalLength\": 1.0, \"PetalWidth\": 0.2, \"Species\": \"setosa\"}, {\"SepalLength\": 5.1, \"SepalWidth\": 3.3, \"PetalLength\": 1.7, \"PetalWidth\": 0.5, \"Species\": \"setosa\"}, {\"SepalLength\": 4.8, \"SepalWidth\": 3.4, \"PetalLength\": 1.9, \"PetalWidth\": 0.2, \"Species\": \"setosa\"}, {\"SepalLength\": 5.0, \"SepalWidth\": 3.0, \"PetalLength\": 1.6, \"PetalWidth\": 0.2, \"Species\": \"setosa\"}, {\"SepalLength\": 5.0, \"SepalWidth\": 3.4, \"PetalLength\": 1.6, \"PetalWidth\": 0.4, \"Species\": \"setosa\"}, {\"SepalLength\": 5.2, \"SepalWidth\": 3.5, \"PetalLength\": 1.5, \"PetalWidth\": 0.2, \"Species\": \"setosa\"}, {\"SepalLength\": 5.2, \"SepalWidth\": 3.4, \"PetalLength\": 1.4, \"PetalWidth\": 0.2, \"Species\": \"setosa\"}, {\"SepalLength\": 4.7, \"SepalWidth\": 3.2, \"PetalLength\": 1.6, \"PetalWidth\": 0.2, \"Species\": \"setosa\"}, {\"SepalLength\": 4.8, \"SepalWidth\": 3.1, \"PetalLength\": 1.6, \"PetalWidth\": 0.2, \"Species\": \"setosa\"}, {\"SepalLength\": 5.4, \"SepalWidth\": 3.4, \"PetalLength\": 1.5, \"PetalWidth\": 0.4, \"Species\": \"setosa\"}, {\"SepalLength\": 5.2, \"SepalWidth\": 4.1, \"PetalLength\": 1.5, \"PetalWidth\": 0.1, \"Species\": \"setosa\"}, {\"SepalLength\": 5.5, \"SepalWidth\": 4.2, \"PetalLength\": 1.4, \"PetalWidth\": 0.2, \"Species\": \"setosa\"}, {\"SepalLength\": 4.9, \"SepalWidth\": 3.1, \"PetalLength\": 1.5, \"PetalWidth\": 0.2, \"Species\": \"setosa\"}, {\"SepalLength\": 5.0, \"SepalWidth\": 3.2, \"PetalLength\": 1.2, \"PetalWidth\": 0.2, \"Species\": \"setosa\"}, {\"SepalLength\": 5.5, \"SepalWidth\": 3.5, \"PetalLength\": 1.3, \"PetalWidth\": 0.2, \"Species\": \"setosa\"}, {\"SepalLength\": 4.9, \"SepalWidth\": 3.6, \"PetalLength\": 1.4, \"PetalWidth\": 0.1, \"Species\": \"setosa\"}, {\"SepalLength\": 4.4, \"SepalWidth\": 3.0, \"PetalLength\": 1.3, \"PetalWidth\": 0.2, \"Species\": \"setosa\"}, {\"SepalLength\": 5.1, \"SepalWidth\": 3.4, \"PetalLength\": 1.5, \"PetalWidth\": 0.2, \"Species\": \"setosa\"}, {\"SepalLength\": 5.0, \"SepalWidth\": 3.5, \"PetalLength\": 1.3, \"PetalWidth\": 0.3, \"Species\": \"setosa\"}, {\"SepalLength\": 4.5, \"SepalWidth\": 2.3, \"PetalLength\": 1.3, \"PetalWidth\": 0.3, \"Species\": \"setosa\"}, {\"SepalLength\": 4.4, \"SepalWidth\": 3.2, \"PetalLength\": 1.3, \"PetalWidth\": 0.2, \"Species\": \"setosa\"}, {\"SepalLength\": 5.0, \"SepalWidth\": 3.5, \"PetalLength\": 1.6, \"PetalWidth\": 0.6, \"Species\": \"setosa\"}, {\"SepalLength\": 5.1, \"SepalWidth\": 3.8, \"PetalLength\": 1.9, \"PetalWidth\": 0.4, \"Species\": \"setosa\"}, {\"SepalLength\": 4.8, \"SepalWidth\": 3.0, \"PetalLength\": 1.4, \"PetalWidth\": 0.3, \"Species\": \"setosa\"}, {\"SepalLength\": 5.1, \"SepalWidth\": 3.8, \"PetalLength\": 1.6, \"PetalWidth\": 0.2, \"Species\": \"setosa\"}, {\"SepalLength\": 4.6, \"SepalWidth\": 3.2, \"PetalLength\": 1.4, \"PetalWidth\": 0.2, \"Species\": \"setosa\"}, {\"SepalLength\": 5.3, \"SepalWidth\": 3.7, \"PetalLength\": 1.5, \"PetalWidth\": 0.2, \"Species\": \"setosa\"}, {\"SepalLength\": 5.0, \"SepalWidth\": 3.3, \"PetalLength\": 1.4, \"PetalWidth\": 0.2, \"Species\": \"setosa\"}, {\"SepalLength\": 7.0, \"SepalWidth\": 3.2, \"PetalLength\": 4.7, \"PetalWidth\": 1.4, \"Species\": \"versicolor\"}, {\"SepalLength\": 6.4, \"SepalWidth\": 3.2, \"PetalLength\": 4.5, \"PetalWidth\": 1.5, \"Species\": \"versicolor\"}, {\"SepalLength\": 6.9, \"SepalWidth\": 3.1, \"PetalLength\": 4.9, \"PetalWidth\": 1.5, \"Species\": \"versicolor\"}, {\"SepalLength\": 5.5, \"SepalWidth\": 2.3, \"PetalLength\": 4.0, \"PetalWidth\": 1.3, \"Species\": \"versicolor\"}, {\"SepalLength\": 6.5, \"SepalWidth\": 2.8, \"PetalLength\": 4.6, \"PetalWidth\": 1.5, \"Species\": \"versicolor\"}, {\"SepalLength\": 5.7, \"SepalWidth\": 2.8, \"PetalLength\": 4.5, \"PetalWidth\": 1.3, \"Species\": \"versicolor\"}, {\"SepalLength\": 6.3, \"SepalWidth\": 3.3, \"PetalLength\": 4.7, \"PetalWidth\": 1.6, \"Species\": \"versicolor\"}, {\"SepalLength\": 4.9, \"SepalWidth\": 2.4, \"PetalLength\": 3.3, \"PetalWidth\": 1.0, \"Species\": \"versicolor\"}, {\"SepalLength\": 6.6, \"SepalWidth\": 2.9, \"PetalLength\": 4.6, \"PetalWidth\": 1.3, \"Species\": \"versicolor\"}, {\"SepalLength\": 5.2, \"SepalWidth\": 2.7, \"PetalLength\": 3.9, \"PetalWidth\": 1.4, \"Species\": \"versicolor\"}, {\"SepalLength\": 5.0, \"SepalWidth\": 2.0, \"PetalLength\": 3.5, \"PetalWidth\": 1.0, \"Species\": \"versicolor\"}, {\"SepalLength\": 5.9, \"SepalWidth\": 3.0, \"PetalLength\": 4.2, \"PetalWidth\": 1.5, \"Species\": \"versicolor\"}, {\"SepalLength\": 6.0, \"SepalWidth\": 2.2, \"PetalLength\": 4.0, \"PetalWidth\": 1.0, \"Species\": \"versicolor\"}, {\"SepalLength\": 6.1, \"SepalWidth\": 2.9, \"PetalLength\": 4.7, \"PetalWidth\": 1.4, \"Species\": \"versicolor\"}, {\"SepalLength\": 5.6, \"SepalWidth\": 2.9, \"PetalLength\": 3.6, \"PetalWidth\": 1.3, \"Species\": \"versicolor\"}, {\"SepalLength\": 6.7, \"SepalWidth\": 3.1, \"PetalLength\": 4.4, \"PetalWidth\": 1.4, \"Species\": \"versicolor\"}, {\"SepalLength\": 5.6, \"SepalWidth\": 3.0, \"PetalLength\": 4.5, \"PetalWidth\": 1.5, \"Species\": \"versicolor\"}, {\"SepalLength\": 5.8, \"SepalWidth\": 2.7, \"PetalLength\": 4.1, \"PetalWidth\": 1.0, \"Species\": \"versicolor\"}, {\"SepalLength\": 6.2, \"SepalWidth\": 2.2, \"PetalLength\": 4.5, \"PetalWidth\": 1.5, \"Species\": \"versicolor\"}, {\"SepalLength\": 5.6, \"SepalWidth\": 2.5, \"PetalLength\": 3.9, \"PetalWidth\": 1.1, \"Species\": \"versicolor\"}, {\"SepalLength\": 5.9, \"SepalWidth\": 3.2, \"PetalLength\": 4.8, \"PetalWidth\": 1.8, \"Species\": \"versicolor\"}, {\"SepalLength\": 6.1, \"SepalWidth\": 2.8, \"PetalLength\": 4.0, \"PetalWidth\": 1.3, \"Species\": \"versicolor\"}, {\"SepalLength\": 6.3, \"SepalWidth\": 2.5, \"PetalLength\": 4.9, \"PetalWidth\": 1.5, \"Species\": \"versicolor\"}, {\"SepalLength\": 6.1, \"SepalWidth\": 2.8, \"PetalLength\": 4.7, \"PetalWidth\": 1.2, \"Species\": \"versicolor\"}, {\"SepalLength\": 6.4, \"SepalWidth\": 2.9, \"PetalLength\": 4.3, \"PetalWidth\": 1.3, \"Species\": \"versicolor\"}, {\"SepalLength\": 6.6, \"SepalWidth\": 3.0, \"PetalLength\": 4.4, \"PetalWidth\": 1.4, \"Species\": \"versicolor\"}, {\"SepalLength\": 6.8, \"SepalWidth\": 2.8, \"PetalLength\": 4.8, \"PetalWidth\": 1.4, \"Species\": \"versicolor\"}, {\"SepalLength\": 6.7, \"SepalWidth\": 3.0, \"PetalLength\": 5.0, \"PetalWidth\": 1.7, \"Species\": \"versicolor\"}, {\"SepalLength\": 6.0, \"SepalWidth\": 2.9, \"PetalLength\": 4.5, \"PetalWidth\": 1.5, \"Species\": \"versicolor\"}, {\"SepalLength\": 5.7, \"SepalWidth\": 2.6, \"PetalLength\": 3.5, \"PetalWidth\": 1.0, \"Species\": \"versicolor\"}, {\"SepalLength\": 5.5, \"SepalWidth\": 2.4, \"PetalLength\": 3.8, \"PetalWidth\": 1.1, \"Species\": \"versicolor\"}, {\"SepalLength\": 5.5, \"SepalWidth\": 2.4, \"PetalLength\": 3.7, \"PetalWidth\": 1.0, \"Species\": \"versicolor\"}, {\"SepalLength\": 5.8, \"SepalWidth\": 2.7, \"PetalLength\": 3.9, \"PetalWidth\": 1.2, \"Species\": \"versicolor\"}, {\"SepalLength\": 6.0, \"SepalWidth\": 2.7, \"PetalLength\": 5.1, \"PetalWidth\": 1.6, \"Species\": \"versicolor\"}, {\"SepalLength\": 5.4, \"SepalWidth\": 3.0, \"PetalLength\": 4.5, \"PetalWidth\": 1.5, \"Species\": \"versicolor\"}, {\"SepalLength\": 6.0, \"SepalWidth\": 3.4, \"PetalLength\": 4.5, \"PetalWidth\": 1.6, \"Species\": \"versicolor\"}, {\"SepalLength\": 6.7, \"SepalWidth\": 3.1, \"PetalLength\": 4.7, \"PetalWidth\": 1.5, \"Species\": \"versicolor\"}, {\"SepalLength\": 6.3, \"SepalWidth\": 2.3, \"PetalLength\": 4.4, \"PetalWidth\": 1.3, \"Species\": \"versicolor\"}, {\"SepalLength\": 5.6, \"SepalWidth\": 3.0, \"PetalLength\": 4.1, \"PetalWidth\": 1.3, \"Species\": \"versicolor\"}, {\"SepalLength\": 5.5, \"SepalWidth\": 2.5, \"PetalLength\": 4.0, \"PetalWidth\": 1.3, \"Species\": \"versicolor\"}, {\"SepalLength\": 5.5, \"SepalWidth\": 2.6, \"PetalLength\": 4.4, \"PetalWidth\": 1.2, \"Species\": \"versicolor\"}, {\"SepalLength\": 6.1, \"SepalWidth\": 3.0, \"PetalLength\": 4.6, \"PetalWidth\": 1.4, \"Species\": \"versicolor\"}, {\"SepalLength\": 5.8, \"SepalWidth\": 2.6, \"PetalLength\": 4.0, \"PetalWidth\": 1.2, \"Species\": \"versicolor\"}, {\"SepalLength\": 5.0, \"SepalWidth\": 2.3, \"PetalLength\": 3.3, \"PetalWidth\": 1.0, \"Species\": \"versicolor\"}, {\"SepalLength\": 5.6, \"SepalWidth\": 2.7, \"PetalLength\": 4.2, \"PetalWidth\": 1.3, \"Species\": \"versicolor\"}, {\"SepalLength\": 5.7, \"SepalWidth\": 3.0, \"PetalLength\": 4.2, \"PetalWidth\": 1.2, \"Species\": \"versicolor\"}, {\"SepalLength\": 5.7, \"SepalWidth\": 2.9, \"PetalLength\": 4.2, \"PetalWidth\": 1.3, \"Species\": \"versicolor\"}, {\"SepalLength\": 6.2, \"SepalWidth\": 2.9, \"PetalLength\": 4.3, \"PetalWidth\": 1.3, \"Species\": \"versicolor\"}, {\"SepalLength\": 5.1, \"SepalWidth\": 2.5, \"PetalLength\": 3.0, \"PetalWidth\": 1.1, \"Species\": \"versicolor\"}, {\"SepalLength\": 5.7, \"SepalWidth\": 2.8, \"PetalLength\": 4.1, \"PetalWidth\": 1.3, \"Species\": \"versicolor\"}, {\"SepalLength\": 6.3, \"SepalWidth\": 3.3, \"PetalLength\": 6.0, \"PetalWidth\": 2.5, \"Species\": \"virginica\"}, {\"SepalLength\": 5.8, \"SepalWidth\": 2.7, \"PetalLength\": 5.1, \"PetalWidth\": 1.9, \"Species\": \"virginica\"}, {\"SepalLength\": 7.1, \"SepalWidth\": 3.0, \"PetalLength\": 5.9, \"PetalWidth\": 2.1, \"Species\": \"virginica\"}, {\"SepalLength\": 6.3, \"SepalWidth\": 2.9, \"PetalLength\": 5.6, \"PetalWidth\": 1.8, \"Species\": \"virginica\"}, {\"SepalLength\": 6.5, \"SepalWidth\": 3.0, \"PetalLength\": 5.8, \"PetalWidth\": 2.2, \"Species\": \"virginica\"}, {\"SepalLength\": 7.6, \"SepalWidth\": 3.0, \"PetalLength\": 6.6, \"PetalWidth\": 2.1, \"Species\": \"virginica\"}, {\"SepalLength\": 4.9, \"SepalWidth\": 2.5, \"PetalLength\": 4.5, \"PetalWidth\": 1.7, \"Species\": \"virginica\"}, {\"SepalLength\": 7.3, \"SepalWidth\": 2.9, \"PetalLength\": 6.3, \"PetalWidth\": 1.8, \"Species\": \"virginica\"}, {\"SepalLength\": 6.7, \"SepalWidth\": 2.5, \"PetalLength\": 5.8, \"PetalWidth\": 1.8, \"Species\": \"virginica\"}, {\"SepalLength\": 7.2, \"SepalWidth\": 3.6, \"PetalLength\": 6.1, \"PetalWidth\": 2.5, \"Species\": \"virginica\"}, {\"SepalLength\": 6.5, \"SepalWidth\": 3.2, \"PetalLength\": 5.1, \"PetalWidth\": 2.0, \"Species\": \"virginica\"}, {\"SepalLength\": 6.4, \"SepalWidth\": 2.7, \"PetalLength\": 5.3, \"PetalWidth\": 1.9, \"Species\": \"virginica\"}, {\"SepalLength\": 6.8, \"SepalWidth\": 3.0, \"PetalLength\": 5.5, \"PetalWidth\": 2.1, \"Species\": \"virginica\"}, {\"SepalLength\": 5.7, \"SepalWidth\": 2.5, \"PetalLength\": 5.0, \"PetalWidth\": 2.0, \"Species\": \"virginica\"}, {\"SepalLength\": 5.8, \"SepalWidth\": 2.8, \"PetalLength\": 5.1, \"PetalWidth\": 2.4, \"Species\": \"virginica\"}, {\"SepalLength\": 6.4, \"SepalWidth\": 3.2, \"PetalLength\": 5.3, \"PetalWidth\": 2.3, \"Species\": \"virginica\"}, {\"SepalLength\": 6.5, \"SepalWidth\": 3.0, \"PetalLength\": 5.5, \"PetalWidth\": 1.8, \"Species\": \"virginica\"}, {\"SepalLength\": 7.7, \"SepalWidth\": 3.8, \"PetalLength\": 6.7, \"PetalWidth\": 2.2, \"Species\": \"virginica\"}, {\"SepalLength\": 7.7, \"SepalWidth\": 2.6, \"PetalLength\": 6.9, \"PetalWidth\": 2.3, \"Species\": \"virginica\"}, {\"SepalLength\": 6.0, \"SepalWidth\": 2.2, \"PetalLength\": 5.0, \"PetalWidth\": 1.5, \"Species\": \"virginica\"}, {\"SepalLength\": 6.9, \"SepalWidth\": 3.2, \"PetalLength\": 5.7, \"PetalWidth\": 2.3, \"Species\": \"virginica\"}, {\"SepalLength\": 5.6, \"SepalWidth\": 2.8, \"PetalLength\": 4.9, \"PetalWidth\": 2.0, \"Species\": \"virginica\"}, {\"SepalLength\": 7.7, \"SepalWidth\": 2.8, \"PetalLength\": 6.7, \"PetalWidth\": 2.0, \"Species\": \"virginica\"}, {\"SepalLength\": 6.3, \"SepalWidth\": 2.7, \"PetalLength\": 4.9, \"PetalWidth\": 1.8, \"Species\": \"virginica\"}, {\"SepalLength\": 6.7, \"SepalWidth\": 3.3, \"PetalLength\": 5.7, \"PetalWidth\": 2.1, \"Species\": \"virginica\"}, {\"SepalLength\": 7.2, \"SepalWidth\": 3.2, \"PetalLength\": 6.0, \"PetalWidth\": 1.8, \"Species\": \"virginica\"}, {\"SepalLength\": 6.2, \"SepalWidth\": 2.8, \"PetalLength\": 4.8, \"PetalWidth\": 1.8, \"Species\": \"virginica\"}, {\"SepalLength\": 6.1, \"SepalWidth\": 3.0, \"PetalLength\": 4.9, \"PetalWidth\": 1.8, \"Species\": \"virginica\"}, {\"SepalLength\": 6.4, \"SepalWidth\": 2.8, \"PetalLength\": 5.6, \"PetalWidth\": 2.1, \"Species\": \"virginica\"}, {\"SepalLength\": 7.2, \"SepalWidth\": 3.0, \"PetalLength\": 5.8, \"PetalWidth\": 1.6, \"Species\": \"virginica\"}, {\"SepalLength\": 7.4, \"SepalWidth\": 2.8, \"PetalLength\": 6.1, \"PetalWidth\": 1.9, \"Species\": \"virginica\"}, {\"SepalLength\": 7.9, \"SepalWidth\": 3.8, \"PetalLength\": 6.4, \"PetalWidth\": 2.0, \"Species\": \"virginica\"}, {\"SepalLength\": 6.4, \"SepalWidth\": 2.8, \"PetalLength\": 5.6, \"PetalWidth\": 2.2, \"Species\": \"virginica\"}, {\"SepalLength\": 6.3, \"SepalWidth\": 2.8, \"PetalLength\": 5.1, \"PetalWidth\": 1.5, \"Species\": \"virginica\"}, {\"SepalLength\": 6.1, \"SepalWidth\": 2.6, \"PetalLength\": 5.6, \"PetalWidth\": 1.4, \"Species\": \"virginica\"}, {\"SepalLength\": 7.7, \"SepalWidth\": 3.0, \"PetalLength\": 6.1, \"PetalWidth\": 2.3, \"Species\": \"virginica\"}, {\"SepalLength\": 6.3, \"SepalWidth\": 3.4, \"PetalLength\": 5.6, \"PetalWidth\": 2.4, \"Species\": \"virginica\"}, {\"SepalLength\": 6.4, \"SepalWidth\": 3.1, \"PetalLength\": 5.5, \"PetalWidth\": 1.8, \"Species\": \"virginica\"}, {\"SepalLength\": 6.0, \"SepalWidth\": 3.0, \"PetalLength\": 4.8, \"PetalWidth\": 1.8, \"Species\": \"virginica\"}, {\"SepalLength\": 6.9, \"SepalWidth\": 3.1, \"PetalLength\": 5.4, \"PetalWidth\": 2.1, \"Species\": \"virginica\"}, {\"SepalLength\": 6.7, \"SepalWidth\": 3.1, \"PetalLength\": 5.6, \"PetalWidth\": 2.4, \"Species\": \"virginica\"}, {\"SepalLength\": 6.9, \"SepalWidth\": 3.1, \"PetalLength\": 5.1, \"PetalWidth\": 2.3, \"Species\": \"virginica\"}, {\"SepalLength\": 5.8, \"SepalWidth\": 2.7, \"PetalLength\": 5.1, \"PetalWidth\": 1.9, \"Species\": \"virginica\"}, {\"SepalLength\": 6.8, \"SepalWidth\": 3.2, \"PetalLength\": 5.9, \"PetalWidth\": 2.3, \"Species\": \"virginica\"}, {\"SepalLength\": 6.7, \"SepalWidth\": 3.3, \"PetalLength\": 5.7, \"PetalWidth\": 2.5, \"Species\": \"virginica\"}, {\"SepalLength\": 6.7, \"SepalWidth\": 3.0, \"PetalLength\": 5.2, \"PetalWidth\": 2.3, \"Species\": \"virginica\"}, {\"SepalLength\": 6.3, \"SepalWidth\": 2.5, \"PetalLength\": 5.0, \"PetalWidth\": 1.9, \"Species\": \"virginica\"}, {\"SepalLength\": 6.5, \"SepalWidth\": 3.0, \"PetalLength\": 5.2, \"PetalWidth\": 2.0, \"Species\": \"virginica\"}, {\"SepalLength\": 6.2, \"SepalWidth\": 3.4, \"PetalLength\": 5.4, \"PetalWidth\": 2.3, \"Species\": \"virginica\"}, {\"SepalLength\": 5.9, \"SepalWidth\": 3.0, \"PetalLength\": 5.1, \"PetalWidth\": 1.8, \"Species\": \"virginica\"}]}}, {\"mode\": \"vega-lite\"});\n",
       "</script>"
      ],
      "text/plain": [
       "alt.Chart(...)"
      ]
     },
     "execution_count": 14,
     "metadata": {},
     "output_type": "execute_result"
    }
   ],
   "source": [
    "alt.Chart(iris, title=\"Comparing Sepal Length to Sepal Width\").mark_point().encode(\n",
    "      x = alt.X('SepalLength', title = 'Sepal Length', scale = alt.Scale(domain = (4,9))),\n",
    "      y = alt.Y('SepalWidth', title = 'Sepal Width', scale = alt.Scale(domain = (1.5,4.5))),\n",
    "      color = 'Species'\n",
    ")"
   ]
  },
  {
   "cell_type": "code",
   "execution_count": 15,
   "id": "ea8a1e6f-09c4-4142-9e6e-4a1e0dca1224",
   "metadata": {},
   "outputs": [
    {
     "data": {
      "text/html": [
       "\n",
       "<div id=\"altair-viz-54592f45221c4d6dbf57b44e2f67a7a2\"></div>\n",
       "<script type=\"text/javascript\">\n",
       "  var VEGA_DEBUG = (typeof VEGA_DEBUG == \"undefined\") ? {} : VEGA_DEBUG;\n",
       "  (function(spec, embedOpt){\n",
       "    let outputDiv = document.currentScript.previousElementSibling;\n",
       "    if (outputDiv.id !== \"altair-viz-54592f45221c4d6dbf57b44e2f67a7a2\") {\n",
       "      outputDiv = document.getElementById(\"altair-viz-54592f45221c4d6dbf57b44e2f67a7a2\");\n",
       "    }\n",
       "    const paths = {\n",
       "      \"vega\": \"https://cdn.jsdelivr.net/npm//vega@5?noext\",\n",
       "      \"vega-lib\": \"https://cdn.jsdelivr.net/npm//vega-lib?noext\",\n",
       "      \"vega-lite\": \"https://cdn.jsdelivr.net/npm//vega-lite@4.17.0?noext\",\n",
       "      \"vega-embed\": \"https://cdn.jsdelivr.net/npm//vega-embed@6?noext\",\n",
       "    };\n",
       "\n",
       "    function maybeLoadScript(lib, version) {\n",
       "      var key = `${lib.replace(\"-\", \"\")}_version`;\n",
       "      return (VEGA_DEBUG[key] == version) ?\n",
       "        Promise.resolve(paths[lib]) :\n",
       "        new Promise(function(resolve, reject) {\n",
       "          var s = document.createElement('script');\n",
       "          document.getElementsByTagName(\"head\")[0].appendChild(s);\n",
       "          s.async = true;\n",
       "          s.onload = () => {\n",
       "            VEGA_DEBUG[key] = version;\n",
       "            return resolve(paths[lib]);\n",
       "          };\n",
       "          s.onerror = () => reject(`Error loading script: ${paths[lib]}`);\n",
       "          s.src = paths[lib];\n",
       "        });\n",
       "    }\n",
       "\n",
       "    function showError(err) {\n",
       "      outputDiv.innerHTML = `<div class=\"error\" style=\"color:red;\">${err}</div>`;\n",
       "      throw err;\n",
       "    }\n",
       "\n",
       "    function displayChart(vegaEmbed) {\n",
       "      vegaEmbed(outputDiv, spec, embedOpt)\n",
       "        .catch(err => showError(`Javascript Error: ${err.message}<br>This usually means there's a typo in your chart specification. See the javascript console for the full traceback.`));\n",
       "    }\n",
       "\n",
       "    if(typeof define === \"function\" && define.amd) {\n",
       "      requirejs.config({paths});\n",
       "      require([\"vega-embed\"], displayChart, err => showError(`Error loading script: ${err.message}`));\n",
       "    } else {\n",
       "      maybeLoadScript(\"vega\", \"5\")\n",
       "        .then(() => maybeLoadScript(\"vega-lite\", \"4.17.0\"))\n",
       "        .then(() => maybeLoadScript(\"vega-embed\", \"6\"))\n",
       "        .catch(showError)\n",
       "        .then(() => displayChart(vegaEmbed));\n",
       "    }\n",
       "  })({\"config\": {\"view\": {\"continuousWidth\": 400, \"continuousHeight\": 300}}, \"data\": {\"name\": \"data-d1be07d90518734e6d08167a291c95a9\"}, \"mark\": \"point\", \"encoding\": {\"color\": {\"field\": \"Species\", \"type\": \"nominal\"}, \"shape\": {\"field\": \"Species\", \"type\": \"nominal\"}, \"x\": {\"field\": \"SepalLength\", \"scale\": {\"domain\": [4, 9]}, \"title\": \"Sepal Length\", \"type\": \"quantitative\"}, \"y\": {\"field\": \"SepalWidth\", \"scale\": {\"domain\": [1.5, 4.5]}, \"title\": \"Sepal Width\", \"type\": \"quantitative\"}}, \"title\": \"Comparing Sepal Length to Sepal Width\", \"$schema\": \"https://vega.github.io/schema/vega-lite/v4.17.0.json\", \"datasets\": {\"data-d1be07d90518734e6d08167a291c95a9\": [{\"SepalLength\": 5.1, \"SepalWidth\": 3.5, \"PetalLength\": 1.4, \"PetalWidth\": 0.2, \"Species\": \"setosa\"}, {\"SepalLength\": 4.9, \"SepalWidth\": 3.0, \"PetalLength\": 1.4, \"PetalWidth\": 0.2, \"Species\": \"setosa\"}, {\"SepalLength\": 4.7, \"SepalWidth\": 3.2, \"PetalLength\": 1.3, \"PetalWidth\": 0.2, \"Species\": \"setosa\"}, {\"SepalLength\": 4.6, \"SepalWidth\": 3.1, \"PetalLength\": 1.5, \"PetalWidth\": 0.2, \"Species\": \"setosa\"}, {\"SepalLength\": 5.0, \"SepalWidth\": 3.6, \"PetalLength\": 1.4, \"PetalWidth\": 0.2, \"Species\": \"setosa\"}, {\"SepalLength\": 5.4, \"SepalWidth\": 3.9, \"PetalLength\": 1.7, \"PetalWidth\": 0.4, \"Species\": \"setosa\"}, {\"SepalLength\": 4.6, \"SepalWidth\": 3.4, \"PetalLength\": 1.4, \"PetalWidth\": 0.3, \"Species\": \"setosa\"}, {\"SepalLength\": 5.0, \"SepalWidth\": 3.4, \"PetalLength\": 1.5, \"PetalWidth\": 0.2, \"Species\": \"setosa\"}, {\"SepalLength\": 4.4, \"SepalWidth\": 2.9, \"PetalLength\": 1.4, \"PetalWidth\": 0.2, \"Species\": \"setosa\"}, {\"SepalLength\": 4.9, \"SepalWidth\": 3.1, \"PetalLength\": 1.5, \"PetalWidth\": 0.1, \"Species\": \"setosa\"}, {\"SepalLength\": 5.4, \"SepalWidth\": 3.7, \"PetalLength\": 1.5, \"PetalWidth\": 0.2, \"Species\": \"setosa\"}, {\"SepalLength\": 4.8, \"SepalWidth\": 3.4, \"PetalLength\": 1.6, \"PetalWidth\": 0.2, \"Species\": \"setosa\"}, {\"SepalLength\": 4.8, \"SepalWidth\": 3.0, \"PetalLength\": 1.4, \"PetalWidth\": 0.1, \"Species\": \"setosa\"}, {\"SepalLength\": 4.3, \"SepalWidth\": 3.0, \"PetalLength\": 1.1, \"PetalWidth\": 0.1, \"Species\": \"setosa\"}, {\"SepalLength\": 5.8, \"SepalWidth\": 4.0, \"PetalLength\": 1.2, \"PetalWidth\": 0.2, \"Species\": \"setosa\"}, {\"SepalLength\": 5.7, \"SepalWidth\": 4.4, \"PetalLength\": 1.5, \"PetalWidth\": 0.4, \"Species\": \"setosa\"}, {\"SepalLength\": 5.4, \"SepalWidth\": 3.9, \"PetalLength\": 1.3, \"PetalWidth\": 0.4, \"Species\": \"setosa\"}, {\"SepalLength\": 5.1, \"SepalWidth\": 3.5, \"PetalLength\": 1.4, \"PetalWidth\": 0.3, \"Species\": \"setosa\"}, {\"SepalLength\": 5.7, \"SepalWidth\": 3.8, \"PetalLength\": 1.7, \"PetalWidth\": 0.3, \"Species\": \"setosa\"}, {\"SepalLength\": 5.1, \"SepalWidth\": 3.8, \"PetalLength\": 1.5, \"PetalWidth\": 0.3, \"Species\": \"setosa\"}, {\"SepalLength\": 5.4, \"SepalWidth\": 3.4, \"PetalLength\": 1.7, \"PetalWidth\": 0.2, \"Species\": \"setosa\"}, {\"SepalLength\": 5.1, \"SepalWidth\": 3.7, \"PetalLength\": 1.5, \"PetalWidth\": 0.4, \"Species\": \"setosa\"}, {\"SepalLength\": 4.6, \"SepalWidth\": 3.6, \"PetalLength\": 1.0, \"PetalWidth\": 0.2, \"Species\": \"setosa\"}, {\"SepalLength\": 5.1, \"SepalWidth\": 3.3, \"PetalLength\": 1.7, \"PetalWidth\": 0.5, \"Species\": \"setosa\"}, {\"SepalLength\": 4.8, \"SepalWidth\": 3.4, \"PetalLength\": 1.9, \"PetalWidth\": 0.2, \"Species\": \"setosa\"}, {\"SepalLength\": 5.0, \"SepalWidth\": 3.0, \"PetalLength\": 1.6, \"PetalWidth\": 0.2, \"Species\": \"setosa\"}, {\"SepalLength\": 5.0, \"SepalWidth\": 3.4, \"PetalLength\": 1.6, \"PetalWidth\": 0.4, \"Species\": \"setosa\"}, {\"SepalLength\": 5.2, \"SepalWidth\": 3.5, \"PetalLength\": 1.5, \"PetalWidth\": 0.2, \"Species\": \"setosa\"}, {\"SepalLength\": 5.2, \"SepalWidth\": 3.4, \"PetalLength\": 1.4, \"PetalWidth\": 0.2, \"Species\": \"setosa\"}, {\"SepalLength\": 4.7, \"SepalWidth\": 3.2, \"PetalLength\": 1.6, \"PetalWidth\": 0.2, \"Species\": \"setosa\"}, {\"SepalLength\": 4.8, \"SepalWidth\": 3.1, \"PetalLength\": 1.6, \"PetalWidth\": 0.2, \"Species\": \"setosa\"}, {\"SepalLength\": 5.4, \"SepalWidth\": 3.4, \"PetalLength\": 1.5, \"PetalWidth\": 0.4, \"Species\": \"setosa\"}, {\"SepalLength\": 5.2, \"SepalWidth\": 4.1, \"PetalLength\": 1.5, \"PetalWidth\": 0.1, \"Species\": \"setosa\"}, {\"SepalLength\": 5.5, \"SepalWidth\": 4.2, \"PetalLength\": 1.4, \"PetalWidth\": 0.2, \"Species\": \"setosa\"}, {\"SepalLength\": 4.9, \"SepalWidth\": 3.1, \"PetalLength\": 1.5, \"PetalWidth\": 0.2, \"Species\": \"setosa\"}, {\"SepalLength\": 5.0, \"SepalWidth\": 3.2, \"PetalLength\": 1.2, \"PetalWidth\": 0.2, \"Species\": \"setosa\"}, {\"SepalLength\": 5.5, \"SepalWidth\": 3.5, \"PetalLength\": 1.3, \"PetalWidth\": 0.2, \"Species\": \"setosa\"}, {\"SepalLength\": 4.9, \"SepalWidth\": 3.6, \"PetalLength\": 1.4, \"PetalWidth\": 0.1, \"Species\": \"setosa\"}, {\"SepalLength\": 4.4, \"SepalWidth\": 3.0, \"PetalLength\": 1.3, \"PetalWidth\": 0.2, \"Species\": \"setosa\"}, {\"SepalLength\": 5.1, \"SepalWidth\": 3.4, \"PetalLength\": 1.5, \"PetalWidth\": 0.2, \"Species\": \"setosa\"}, {\"SepalLength\": 5.0, \"SepalWidth\": 3.5, \"PetalLength\": 1.3, \"PetalWidth\": 0.3, \"Species\": \"setosa\"}, {\"SepalLength\": 4.5, \"SepalWidth\": 2.3, \"PetalLength\": 1.3, \"PetalWidth\": 0.3, \"Species\": \"setosa\"}, {\"SepalLength\": 4.4, \"SepalWidth\": 3.2, \"PetalLength\": 1.3, \"PetalWidth\": 0.2, \"Species\": \"setosa\"}, {\"SepalLength\": 5.0, \"SepalWidth\": 3.5, \"PetalLength\": 1.6, \"PetalWidth\": 0.6, \"Species\": \"setosa\"}, {\"SepalLength\": 5.1, \"SepalWidth\": 3.8, \"PetalLength\": 1.9, \"PetalWidth\": 0.4, \"Species\": \"setosa\"}, {\"SepalLength\": 4.8, \"SepalWidth\": 3.0, \"PetalLength\": 1.4, \"PetalWidth\": 0.3, \"Species\": \"setosa\"}, {\"SepalLength\": 5.1, \"SepalWidth\": 3.8, \"PetalLength\": 1.6, \"PetalWidth\": 0.2, \"Species\": \"setosa\"}, {\"SepalLength\": 4.6, \"SepalWidth\": 3.2, \"PetalLength\": 1.4, \"PetalWidth\": 0.2, \"Species\": \"setosa\"}, {\"SepalLength\": 5.3, \"SepalWidth\": 3.7, \"PetalLength\": 1.5, \"PetalWidth\": 0.2, \"Species\": \"setosa\"}, {\"SepalLength\": 5.0, \"SepalWidth\": 3.3, \"PetalLength\": 1.4, \"PetalWidth\": 0.2, \"Species\": \"setosa\"}, {\"SepalLength\": 7.0, \"SepalWidth\": 3.2, \"PetalLength\": 4.7, \"PetalWidth\": 1.4, \"Species\": \"versicolor\"}, {\"SepalLength\": 6.4, \"SepalWidth\": 3.2, \"PetalLength\": 4.5, \"PetalWidth\": 1.5, \"Species\": \"versicolor\"}, {\"SepalLength\": 6.9, \"SepalWidth\": 3.1, \"PetalLength\": 4.9, \"PetalWidth\": 1.5, \"Species\": \"versicolor\"}, {\"SepalLength\": 5.5, \"SepalWidth\": 2.3, \"PetalLength\": 4.0, \"PetalWidth\": 1.3, \"Species\": \"versicolor\"}, {\"SepalLength\": 6.5, \"SepalWidth\": 2.8, \"PetalLength\": 4.6, \"PetalWidth\": 1.5, \"Species\": \"versicolor\"}, {\"SepalLength\": 5.7, \"SepalWidth\": 2.8, \"PetalLength\": 4.5, \"PetalWidth\": 1.3, \"Species\": \"versicolor\"}, {\"SepalLength\": 6.3, \"SepalWidth\": 3.3, \"PetalLength\": 4.7, \"PetalWidth\": 1.6, \"Species\": \"versicolor\"}, {\"SepalLength\": 4.9, \"SepalWidth\": 2.4, \"PetalLength\": 3.3, \"PetalWidth\": 1.0, \"Species\": \"versicolor\"}, {\"SepalLength\": 6.6, \"SepalWidth\": 2.9, \"PetalLength\": 4.6, \"PetalWidth\": 1.3, \"Species\": \"versicolor\"}, {\"SepalLength\": 5.2, \"SepalWidth\": 2.7, \"PetalLength\": 3.9, \"PetalWidth\": 1.4, \"Species\": \"versicolor\"}, {\"SepalLength\": 5.0, \"SepalWidth\": 2.0, \"PetalLength\": 3.5, \"PetalWidth\": 1.0, \"Species\": \"versicolor\"}, {\"SepalLength\": 5.9, \"SepalWidth\": 3.0, \"PetalLength\": 4.2, \"PetalWidth\": 1.5, \"Species\": \"versicolor\"}, {\"SepalLength\": 6.0, \"SepalWidth\": 2.2, \"PetalLength\": 4.0, \"PetalWidth\": 1.0, \"Species\": \"versicolor\"}, {\"SepalLength\": 6.1, \"SepalWidth\": 2.9, \"PetalLength\": 4.7, \"PetalWidth\": 1.4, \"Species\": \"versicolor\"}, {\"SepalLength\": 5.6, \"SepalWidth\": 2.9, \"PetalLength\": 3.6, \"PetalWidth\": 1.3, \"Species\": \"versicolor\"}, {\"SepalLength\": 6.7, \"SepalWidth\": 3.1, \"PetalLength\": 4.4, \"PetalWidth\": 1.4, \"Species\": \"versicolor\"}, {\"SepalLength\": 5.6, \"SepalWidth\": 3.0, \"PetalLength\": 4.5, \"PetalWidth\": 1.5, \"Species\": \"versicolor\"}, {\"SepalLength\": 5.8, \"SepalWidth\": 2.7, \"PetalLength\": 4.1, \"PetalWidth\": 1.0, \"Species\": \"versicolor\"}, {\"SepalLength\": 6.2, \"SepalWidth\": 2.2, \"PetalLength\": 4.5, \"PetalWidth\": 1.5, \"Species\": \"versicolor\"}, {\"SepalLength\": 5.6, \"SepalWidth\": 2.5, \"PetalLength\": 3.9, \"PetalWidth\": 1.1, \"Species\": \"versicolor\"}, {\"SepalLength\": 5.9, \"SepalWidth\": 3.2, \"PetalLength\": 4.8, \"PetalWidth\": 1.8, \"Species\": \"versicolor\"}, {\"SepalLength\": 6.1, \"SepalWidth\": 2.8, \"PetalLength\": 4.0, \"PetalWidth\": 1.3, \"Species\": \"versicolor\"}, {\"SepalLength\": 6.3, \"SepalWidth\": 2.5, \"PetalLength\": 4.9, \"PetalWidth\": 1.5, \"Species\": \"versicolor\"}, {\"SepalLength\": 6.1, \"SepalWidth\": 2.8, \"PetalLength\": 4.7, \"PetalWidth\": 1.2, \"Species\": \"versicolor\"}, {\"SepalLength\": 6.4, \"SepalWidth\": 2.9, \"PetalLength\": 4.3, \"PetalWidth\": 1.3, \"Species\": \"versicolor\"}, {\"SepalLength\": 6.6, \"SepalWidth\": 3.0, \"PetalLength\": 4.4, \"PetalWidth\": 1.4, \"Species\": \"versicolor\"}, {\"SepalLength\": 6.8, \"SepalWidth\": 2.8, \"PetalLength\": 4.8, \"PetalWidth\": 1.4, \"Species\": \"versicolor\"}, {\"SepalLength\": 6.7, \"SepalWidth\": 3.0, \"PetalLength\": 5.0, \"PetalWidth\": 1.7, \"Species\": \"versicolor\"}, {\"SepalLength\": 6.0, \"SepalWidth\": 2.9, \"PetalLength\": 4.5, \"PetalWidth\": 1.5, \"Species\": \"versicolor\"}, {\"SepalLength\": 5.7, \"SepalWidth\": 2.6, \"PetalLength\": 3.5, \"PetalWidth\": 1.0, \"Species\": \"versicolor\"}, {\"SepalLength\": 5.5, \"SepalWidth\": 2.4, \"PetalLength\": 3.8, \"PetalWidth\": 1.1, \"Species\": \"versicolor\"}, {\"SepalLength\": 5.5, \"SepalWidth\": 2.4, \"PetalLength\": 3.7, \"PetalWidth\": 1.0, \"Species\": \"versicolor\"}, {\"SepalLength\": 5.8, \"SepalWidth\": 2.7, \"PetalLength\": 3.9, \"PetalWidth\": 1.2, \"Species\": \"versicolor\"}, {\"SepalLength\": 6.0, \"SepalWidth\": 2.7, \"PetalLength\": 5.1, \"PetalWidth\": 1.6, \"Species\": \"versicolor\"}, {\"SepalLength\": 5.4, \"SepalWidth\": 3.0, \"PetalLength\": 4.5, \"PetalWidth\": 1.5, \"Species\": \"versicolor\"}, {\"SepalLength\": 6.0, \"SepalWidth\": 3.4, \"PetalLength\": 4.5, \"PetalWidth\": 1.6, \"Species\": \"versicolor\"}, {\"SepalLength\": 6.7, \"SepalWidth\": 3.1, \"PetalLength\": 4.7, \"PetalWidth\": 1.5, \"Species\": \"versicolor\"}, {\"SepalLength\": 6.3, \"SepalWidth\": 2.3, \"PetalLength\": 4.4, \"PetalWidth\": 1.3, \"Species\": \"versicolor\"}, {\"SepalLength\": 5.6, \"SepalWidth\": 3.0, \"PetalLength\": 4.1, \"PetalWidth\": 1.3, \"Species\": \"versicolor\"}, {\"SepalLength\": 5.5, \"SepalWidth\": 2.5, \"PetalLength\": 4.0, \"PetalWidth\": 1.3, \"Species\": \"versicolor\"}, {\"SepalLength\": 5.5, \"SepalWidth\": 2.6, \"PetalLength\": 4.4, \"PetalWidth\": 1.2, \"Species\": \"versicolor\"}, {\"SepalLength\": 6.1, \"SepalWidth\": 3.0, \"PetalLength\": 4.6, \"PetalWidth\": 1.4, \"Species\": \"versicolor\"}, {\"SepalLength\": 5.8, \"SepalWidth\": 2.6, \"PetalLength\": 4.0, \"PetalWidth\": 1.2, \"Species\": \"versicolor\"}, {\"SepalLength\": 5.0, \"SepalWidth\": 2.3, \"PetalLength\": 3.3, \"PetalWidth\": 1.0, \"Species\": \"versicolor\"}, {\"SepalLength\": 5.6, \"SepalWidth\": 2.7, \"PetalLength\": 4.2, \"PetalWidth\": 1.3, \"Species\": \"versicolor\"}, {\"SepalLength\": 5.7, \"SepalWidth\": 3.0, \"PetalLength\": 4.2, \"PetalWidth\": 1.2, \"Species\": \"versicolor\"}, {\"SepalLength\": 5.7, \"SepalWidth\": 2.9, \"PetalLength\": 4.2, \"PetalWidth\": 1.3, \"Species\": \"versicolor\"}, {\"SepalLength\": 6.2, \"SepalWidth\": 2.9, \"PetalLength\": 4.3, \"PetalWidth\": 1.3, \"Species\": \"versicolor\"}, {\"SepalLength\": 5.1, \"SepalWidth\": 2.5, \"PetalLength\": 3.0, \"PetalWidth\": 1.1, \"Species\": \"versicolor\"}, {\"SepalLength\": 5.7, \"SepalWidth\": 2.8, \"PetalLength\": 4.1, \"PetalWidth\": 1.3, \"Species\": \"versicolor\"}, {\"SepalLength\": 6.3, \"SepalWidth\": 3.3, \"PetalLength\": 6.0, \"PetalWidth\": 2.5, \"Species\": \"virginica\"}, {\"SepalLength\": 5.8, \"SepalWidth\": 2.7, \"PetalLength\": 5.1, \"PetalWidth\": 1.9, \"Species\": \"virginica\"}, {\"SepalLength\": 7.1, \"SepalWidth\": 3.0, \"PetalLength\": 5.9, \"PetalWidth\": 2.1, \"Species\": \"virginica\"}, {\"SepalLength\": 6.3, \"SepalWidth\": 2.9, \"PetalLength\": 5.6, \"PetalWidth\": 1.8, \"Species\": \"virginica\"}, {\"SepalLength\": 6.5, \"SepalWidth\": 3.0, \"PetalLength\": 5.8, \"PetalWidth\": 2.2, \"Species\": \"virginica\"}, {\"SepalLength\": 7.6, \"SepalWidth\": 3.0, \"PetalLength\": 6.6, \"PetalWidth\": 2.1, \"Species\": \"virginica\"}, {\"SepalLength\": 4.9, \"SepalWidth\": 2.5, \"PetalLength\": 4.5, \"PetalWidth\": 1.7, \"Species\": \"virginica\"}, {\"SepalLength\": 7.3, \"SepalWidth\": 2.9, \"PetalLength\": 6.3, \"PetalWidth\": 1.8, \"Species\": \"virginica\"}, {\"SepalLength\": 6.7, \"SepalWidth\": 2.5, \"PetalLength\": 5.8, \"PetalWidth\": 1.8, \"Species\": \"virginica\"}, {\"SepalLength\": 7.2, \"SepalWidth\": 3.6, \"PetalLength\": 6.1, \"PetalWidth\": 2.5, \"Species\": \"virginica\"}, {\"SepalLength\": 6.5, \"SepalWidth\": 3.2, \"PetalLength\": 5.1, \"PetalWidth\": 2.0, \"Species\": \"virginica\"}, {\"SepalLength\": 6.4, \"SepalWidth\": 2.7, \"PetalLength\": 5.3, \"PetalWidth\": 1.9, \"Species\": \"virginica\"}, {\"SepalLength\": 6.8, \"SepalWidth\": 3.0, \"PetalLength\": 5.5, \"PetalWidth\": 2.1, \"Species\": \"virginica\"}, {\"SepalLength\": 5.7, \"SepalWidth\": 2.5, \"PetalLength\": 5.0, \"PetalWidth\": 2.0, \"Species\": \"virginica\"}, {\"SepalLength\": 5.8, \"SepalWidth\": 2.8, \"PetalLength\": 5.1, \"PetalWidth\": 2.4, \"Species\": \"virginica\"}, {\"SepalLength\": 6.4, \"SepalWidth\": 3.2, \"PetalLength\": 5.3, \"PetalWidth\": 2.3, \"Species\": \"virginica\"}, {\"SepalLength\": 6.5, \"SepalWidth\": 3.0, \"PetalLength\": 5.5, \"PetalWidth\": 1.8, \"Species\": \"virginica\"}, {\"SepalLength\": 7.7, \"SepalWidth\": 3.8, \"PetalLength\": 6.7, \"PetalWidth\": 2.2, \"Species\": \"virginica\"}, {\"SepalLength\": 7.7, \"SepalWidth\": 2.6, \"PetalLength\": 6.9, \"PetalWidth\": 2.3, \"Species\": \"virginica\"}, {\"SepalLength\": 6.0, \"SepalWidth\": 2.2, \"PetalLength\": 5.0, \"PetalWidth\": 1.5, \"Species\": \"virginica\"}, {\"SepalLength\": 6.9, \"SepalWidth\": 3.2, \"PetalLength\": 5.7, \"PetalWidth\": 2.3, \"Species\": \"virginica\"}, {\"SepalLength\": 5.6, \"SepalWidth\": 2.8, \"PetalLength\": 4.9, \"PetalWidth\": 2.0, \"Species\": \"virginica\"}, {\"SepalLength\": 7.7, \"SepalWidth\": 2.8, \"PetalLength\": 6.7, \"PetalWidth\": 2.0, \"Species\": \"virginica\"}, {\"SepalLength\": 6.3, \"SepalWidth\": 2.7, \"PetalLength\": 4.9, \"PetalWidth\": 1.8, \"Species\": \"virginica\"}, {\"SepalLength\": 6.7, \"SepalWidth\": 3.3, \"PetalLength\": 5.7, \"PetalWidth\": 2.1, \"Species\": \"virginica\"}, {\"SepalLength\": 7.2, \"SepalWidth\": 3.2, \"PetalLength\": 6.0, \"PetalWidth\": 1.8, \"Species\": \"virginica\"}, {\"SepalLength\": 6.2, \"SepalWidth\": 2.8, \"PetalLength\": 4.8, \"PetalWidth\": 1.8, \"Species\": \"virginica\"}, {\"SepalLength\": 6.1, \"SepalWidth\": 3.0, \"PetalLength\": 4.9, \"PetalWidth\": 1.8, \"Species\": \"virginica\"}, {\"SepalLength\": 6.4, \"SepalWidth\": 2.8, \"PetalLength\": 5.6, \"PetalWidth\": 2.1, \"Species\": \"virginica\"}, {\"SepalLength\": 7.2, \"SepalWidth\": 3.0, \"PetalLength\": 5.8, \"PetalWidth\": 1.6, \"Species\": \"virginica\"}, {\"SepalLength\": 7.4, \"SepalWidth\": 2.8, \"PetalLength\": 6.1, \"PetalWidth\": 1.9, \"Species\": \"virginica\"}, {\"SepalLength\": 7.9, \"SepalWidth\": 3.8, \"PetalLength\": 6.4, \"PetalWidth\": 2.0, \"Species\": \"virginica\"}, {\"SepalLength\": 6.4, \"SepalWidth\": 2.8, \"PetalLength\": 5.6, \"PetalWidth\": 2.2, \"Species\": \"virginica\"}, {\"SepalLength\": 6.3, \"SepalWidth\": 2.8, \"PetalLength\": 5.1, \"PetalWidth\": 1.5, \"Species\": \"virginica\"}, {\"SepalLength\": 6.1, \"SepalWidth\": 2.6, \"PetalLength\": 5.6, \"PetalWidth\": 1.4, \"Species\": \"virginica\"}, {\"SepalLength\": 7.7, \"SepalWidth\": 3.0, \"PetalLength\": 6.1, \"PetalWidth\": 2.3, \"Species\": \"virginica\"}, {\"SepalLength\": 6.3, \"SepalWidth\": 3.4, \"PetalLength\": 5.6, \"PetalWidth\": 2.4, \"Species\": \"virginica\"}, {\"SepalLength\": 6.4, \"SepalWidth\": 3.1, \"PetalLength\": 5.5, \"PetalWidth\": 1.8, \"Species\": \"virginica\"}, {\"SepalLength\": 6.0, \"SepalWidth\": 3.0, \"PetalLength\": 4.8, \"PetalWidth\": 1.8, \"Species\": \"virginica\"}, {\"SepalLength\": 6.9, \"SepalWidth\": 3.1, \"PetalLength\": 5.4, \"PetalWidth\": 2.1, \"Species\": \"virginica\"}, {\"SepalLength\": 6.7, \"SepalWidth\": 3.1, \"PetalLength\": 5.6, \"PetalWidth\": 2.4, \"Species\": \"virginica\"}, {\"SepalLength\": 6.9, \"SepalWidth\": 3.1, \"PetalLength\": 5.1, \"PetalWidth\": 2.3, \"Species\": \"virginica\"}, {\"SepalLength\": 5.8, \"SepalWidth\": 2.7, \"PetalLength\": 5.1, \"PetalWidth\": 1.9, \"Species\": \"virginica\"}, {\"SepalLength\": 6.8, \"SepalWidth\": 3.2, \"PetalLength\": 5.9, \"PetalWidth\": 2.3, \"Species\": \"virginica\"}, {\"SepalLength\": 6.7, \"SepalWidth\": 3.3, \"PetalLength\": 5.7, \"PetalWidth\": 2.5, \"Species\": \"virginica\"}, {\"SepalLength\": 6.7, \"SepalWidth\": 3.0, \"PetalLength\": 5.2, \"PetalWidth\": 2.3, \"Species\": \"virginica\"}, {\"SepalLength\": 6.3, \"SepalWidth\": 2.5, \"PetalLength\": 5.0, \"PetalWidth\": 1.9, \"Species\": \"virginica\"}, {\"SepalLength\": 6.5, \"SepalWidth\": 3.0, \"PetalLength\": 5.2, \"PetalWidth\": 2.0, \"Species\": \"virginica\"}, {\"SepalLength\": 6.2, \"SepalWidth\": 3.4, \"PetalLength\": 5.4, \"PetalWidth\": 2.3, \"Species\": \"virginica\"}, {\"SepalLength\": 5.9, \"SepalWidth\": 3.0, \"PetalLength\": 5.1, \"PetalWidth\": 1.8, \"Species\": \"virginica\"}]}}, {\"mode\": \"vega-lite\"});\n",
       "</script>"
      ],
      "text/plain": [
       "alt.Chart(...)"
      ]
     },
     "execution_count": 15,
     "metadata": {},
     "output_type": "execute_result"
    }
   ],
   "source": [
    "alt.Chart(iris, title=\"Comparing Sepal Length to Sepal Width\").mark_point().encode(\n",
    "      x = alt.X('SepalLength', title = 'Sepal Length', scale = alt.Scale(domain = (4,9))),\n",
    "      y = alt.Y('SepalWidth', title = 'Sepal Width', scale = alt.Scale(domain = (1.5,4.5))),\n",
    "      color = 'Species',\n",
    "      shape = 'Species'\n",
    ")"
   ]
  },
  {
   "cell_type": "code",
   "execution_count": 16,
   "id": "9ddb88c6-c082-4a56-8f16-213c9413114c",
   "metadata": {},
   "outputs": [
    {
     "data": {
      "text/html": [
       "\n",
       "<div id=\"altair-viz-1bbdae12ee554ea1b1778d66fe8f21a2\"></div>\n",
       "<script type=\"text/javascript\">\n",
       "  var VEGA_DEBUG = (typeof VEGA_DEBUG == \"undefined\") ? {} : VEGA_DEBUG;\n",
       "  (function(spec, embedOpt){\n",
       "    let outputDiv = document.currentScript.previousElementSibling;\n",
       "    if (outputDiv.id !== \"altair-viz-1bbdae12ee554ea1b1778d66fe8f21a2\") {\n",
       "      outputDiv = document.getElementById(\"altair-viz-1bbdae12ee554ea1b1778d66fe8f21a2\");\n",
       "    }\n",
       "    const paths = {\n",
       "      \"vega\": \"https://cdn.jsdelivr.net/npm//vega@5?noext\",\n",
       "      \"vega-lib\": \"https://cdn.jsdelivr.net/npm//vega-lib?noext\",\n",
       "      \"vega-lite\": \"https://cdn.jsdelivr.net/npm//vega-lite@4.17.0?noext\",\n",
       "      \"vega-embed\": \"https://cdn.jsdelivr.net/npm//vega-embed@6?noext\",\n",
       "    };\n",
       "\n",
       "    function maybeLoadScript(lib, version) {\n",
       "      var key = `${lib.replace(\"-\", \"\")}_version`;\n",
       "      return (VEGA_DEBUG[key] == version) ?\n",
       "        Promise.resolve(paths[lib]) :\n",
       "        new Promise(function(resolve, reject) {\n",
       "          var s = document.createElement('script');\n",
       "          document.getElementsByTagName(\"head\")[0].appendChild(s);\n",
       "          s.async = true;\n",
       "          s.onload = () => {\n",
       "            VEGA_DEBUG[key] = version;\n",
       "            return resolve(paths[lib]);\n",
       "          };\n",
       "          s.onerror = () => reject(`Error loading script: ${paths[lib]}`);\n",
       "          s.src = paths[lib];\n",
       "        });\n",
       "    }\n",
       "\n",
       "    function showError(err) {\n",
       "      outputDiv.innerHTML = `<div class=\"error\" style=\"color:red;\">${err}</div>`;\n",
       "      throw err;\n",
       "    }\n",
       "\n",
       "    function displayChart(vegaEmbed) {\n",
       "      vegaEmbed(outputDiv, spec, embedOpt)\n",
       "        .catch(err => showError(`Javascript Error: ${err.message}<br>This usually means there's a typo in your chart specification. See the javascript console for the full traceback.`));\n",
       "    }\n",
       "\n",
       "    if(typeof define === \"function\" && define.amd) {\n",
       "      requirejs.config({paths});\n",
       "      require([\"vega-embed\"], displayChart, err => showError(`Error loading script: ${err.message}`));\n",
       "    } else {\n",
       "      maybeLoadScript(\"vega\", \"5\")\n",
       "        .then(() => maybeLoadScript(\"vega-lite\", \"4.17.0\"))\n",
       "        .then(() => maybeLoadScript(\"vega-embed\", \"6\"))\n",
       "        .catch(showError)\n",
       "        .then(() => displayChart(vegaEmbed));\n",
       "    }\n",
       "  })({\"config\": {\"view\": {\"continuousWidth\": 400, \"continuousHeight\": 300}}, \"data\": {\"name\": \"data-d1be07d90518734e6d08167a291c95a9\"}, \"mark\": \"boxplot\", \"encoding\": {\"x\": {\"field\": \"Species\", \"title\": \"Type of Species\", \"type\": \"nominal\"}, \"y\": {\"field\": \"PetalLength\", \"title\": \"Petal Length\", \"type\": \"quantitative\"}}, \"title\": \"Petal Lengths of Species\", \"$schema\": \"https://vega.github.io/schema/vega-lite/v4.17.0.json\", \"datasets\": {\"data-d1be07d90518734e6d08167a291c95a9\": [{\"SepalLength\": 5.1, \"SepalWidth\": 3.5, \"PetalLength\": 1.4, \"PetalWidth\": 0.2, \"Species\": \"setosa\"}, {\"SepalLength\": 4.9, \"SepalWidth\": 3.0, \"PetalLength\": 1.4, \"PetalWidth\": 0.2, \"Species\": \"setosa\"}, {\"SepalLength\": 4.7, \"SepalWidth\": 3.2, \"PetalLength\": 1.3, \"PetalWidth\": 0.2, \"Species\": \"setosa\"}, {\"SepalLength\": 4.6, \"SepalWidth\": 3.1, \"PetalLength\": 1.5, \"PetalWidth\": 0.2, \"Species\": \"setosa\"}, {\"SepalLength\": 5.0, \"SepalWidth\": 3.6, \"PetalLength\": 1.4, \"PetalWidth\": 0.2, \"Species\": \"setosa\"}, {\"SepalLength\": 5.4, \"SepalWidth\": 3.9, \"PetalLength\": 1.7, \"PetalWidth\": 0.4, \"Species\": \"setosa\"}, {\"SepalLength\": 4.6, \"SepalWidth\": 3.4, \"PetalLength\": 1.4, \"PetalWidth\": 0.3, \"Species\": \"setosa\"}, {\"SepalLength\": 5.0, \"SepalWidth\": 3.4, \"PetalLength\": 1.5, \"PetalWidth\": 0.2, \"Species\": \"setosa\"}, {\"SepalLength\": 4.4, \"SepalWidth\": 2.9, \"PetalLength\": 1.4, \"PetalWidth\": 0.2, \"Species\": \"setosa\"}, {\"SepalLength\": 4.9, \"SepalWidth\": 3.1, \"PetalLength\": 1.5, \"PetalWidth\": 0.1, \"Species\": \"setosa\"}, {\"SepalLength\": 5.4, \"SepalWidth\": 3.7, \"PetalLength\": 1.5, \"PetalWidth\": 0.2, \"Species\": \"setosa\"}, {\"SepalLength\": 4.8, \"SepalWidth\": 3.4, \"PetalLength\": 1.6, \"PetalWidth\": 0.2, \"Species\": \"setosa\"}, {\"SepalLength\": 4.8, \"SepalWidth\": 3.0, \"PetalLength\": 1.4, \"PetalWidth\": 0.1, \"Species\": \"setosa\"}, {\"SepalLength\": 4.3, \"SepalWidth\": 3.0, \"PetalLength\": 1.1, \"PetalWidth\": 0.1, \"Species\": \"setosa\"}, {\"SepalLength\": 5.8, \"SepalWidth\": 4.0, \"PetalLength\": 1.2, \"PetalWidth\": 0.2, \"Species\": \"setosa\"}, {\"SepalLength\": 5.7, \"SepalWidth\": 4.4, \"PetalLength\": 1.5, \"PetalWidth\": 0.4, \"Species\": \"setosa\"}, {\"SepalLength\": 5.4, \"SepalWidth\": 3.9, \"PetalLength\": 1.3, \"PetalWidth\": 0.4, \"Species\": \"setosa\"}, {\"SepalLength\": 5.1, \"SepalWidth\": 3.5, \"PetalLength\": 1.4, \"PetalWidth\": 0.3, \"Species\": \"setosa\"}, {\"SepalLength\": 5.7, \"SepalWidth\": 3.8, \"PetalLength\": 1.7, \"PetalWidth\": 0.3, \"Species\": \"setosa\"}, {\"SepalLength\": 5.1, \"SepalWidth\": 3.8, \"PetalLength\": 1.5, \"PetalWidth\": 0.3, \"Species\": \"setosa\"}, {\"SepalLength\": 5.4, \"SepalWidth\": 3.4, \"PetalLength\": 1.7, \"PetalWidth\": 0.2, \"Species\": \"setosa\"}, {\"SepalLength\": 5.1, \"SepalWidth\": 3.7, \"PetalLength\": 1.5, \"PetalWidth\": 0.4, \"Species\": \"setosa\"}, {\"SepalLength\": 4.6, \"SepalWidth\": 3.6, \"PetalLength\": 1.0, \"PetalWidth\": 0.2, \"Species\": \"setosa\"}, {\"SepalLength\": 5.1, \"SepalWidth\": 3.3, \"PetalLength\": 1.7, \"PetalWidth\": 0.5, \"Species\": \"setosa\"}, {\"SepalLength\": 4.8, \"SepalWidth\": 3.4, \"PetalLength\": 1.9, \"PetalWidth\": 0.2, \"Species\": \"setosa\"}, {\"SepalLength\": 5.0, \"SepalWidth\": 3.0, \"PetalLength\": 1.6, \"PetalWidth\": 0.2, \"Species\": \"setosa\"}, {\"SepalLength\": 5.0, \"SepalWidth\": 3.4, \"PetalLength\": 1.6, \"PetalWidth\": 0.4, \"Species\": \"setosa\"}, {\"SepalLength\": 5.2, \"SepalWidth\": 3.5, \"PetalLength\": 1.5, \"PetalWidth\": 0.2, \"Species\": \"setosa\"}, {\"SepalLength\": 5.2, \"SepalWidth\": 3.4, \"PetalLength\": 1.4, \"PetalWidth\": 0.2, \"Species\": \"setosa\"}, {\"SepalLength\": 4.7, \"SepalWidth\": 3.2, \"PetalLength\": 1.6, \"PetalWidth\": 0.2, \"Species\": \"setosa\"}, {\"SepalLength\": 4.8, \"SepalWidth\": 3.1, \"PetalLength\": 1.6, \"PetalWidth\": 0.2, \"Species\": \"setosa\"}, {\"SepalLength\": 5.4, \"SepalWidth\": 3.4, \"PetalLength\": 1.5, \"PetalWidth\": 0.4, \"Species\": \"setosa\"}, {\"SepalLength\": 5.2, \"SepalWidth\": 4.1, \"PetalLength\": 1.5, \"PetalWidth\": 0.1, \"Species\": \"setosa\"}, {\"SepalLength\": 5.5, \"SepalWidth\": 4.2, \"PetalLength\": 1.4, \"PetalWidth\": 0.2, \"Species\": \"setosa\"}, {\"SepalLength\": 4.9, \"SepalWidth\": 3.1, \"PetalLength\": 1.5, \"PetalWidth\": 0.2, \"Species\": \"setosa\"}, {\"SepalLength\": 5.0, \"SepalWidth\": 3.2, \"PetalLength\": 1.2, \"PetalWidth\": 0.2, \"Species\": \"setosa\"}, {\"SepalLength\": 5.5, \"SepalWidth\": 3.5, \"PetalLength\": 1.3, \"PetalWidth\": 0.2, \"Species\": \"setosa\"}, {\"SepalLength\": 4.9, \"SepalWidth\": 3.6, \"PetalLength\": 1.4, \"PetalWidth\": 0.1, \"Species\": \"setosa\"}, {\"SepalLength\": 4.4, \"SepalWidth\": 3.0, \"PetalLength\": 1.3, \"PetalWidth\": 0.2, \"Species\": \"setosa\"}, {\"SepalLength\": 5.1, \"SepalWidth\": 3.4, \"PetalLength\": 1.5, \"PetalWidth\": 0.2, \"Species\": \"setosa\"}, {\"SepalLength\": 5.0, \"SepalWidth\": 3.5, \"PetalLength\": 1.3, \"PetalWidth\": 0.3, \"Species\": \"setosa\"}, {\"SepalLength\": 4.5, \"SepalWidth\": 2.3, \"PetalLength\": 1.3, \"PetalWidth\": 0.3, \"Species\": \"setosa\"}, {\"SepalLength\": 4.4, \"SepalWidth\": 3.2, \"PetalLength\": 1.3, \"PetalWidth\": 0.2, \"Species\": \"setosa\"}, {\"SepalLength\": 5.0, \"SepalWidth\": 3.5, \"PetalLength\": 1.6, \"PetalWidth\": 0.6, \"Species\": \"setosa\"}, {\"SepalLength\": 5.1, \"SepalWidth\": 3.8, \"PetalLength\": 1.9, \"PetalWidth\": 0.4, \"Species\": \"setosa\"}, {\"SepalLength\": 4.8, \"SepalWidth\": 3.0, \"PetalLength\": 1.4, \"PetalWidth\": 0.3, \"Species\": \"setosa\"}, {\"SepalLength\": 5.1, \"SepalWidth\": 3.8, \"PetalLength\": 1.6, \"PetalWidth\": 0.2, \"Species\": \"setosa\"}, {\"SepalLength\": 4.6, \"SepalWidth\": 3.2, \"PetalLength\": 1.4, \"PetalWidth\": 0.2, \"Species\": \"setosa\"}, {\"SepalLength\": 5.3, \"SepalWidth\": 3.7, \"PetalLength\": 1.5, \"PetalWidth\": 0.2, \"Species\": \"setosa\"}, {\"SepalLength\": 5.0, \"SepalWidth\": 3.3, \"PetalLength\": 1.4, \"PetalWidth\": 0.2, \"Species\": \"setosa\"}, {\"SepalLength\": 7.0, \"SepalWidth\": 3.2, \"PetalLength\": 4.7, \"PetalWidth\": 1.4, \"Species\": \"versicolor\"}, {\"SepalLength\": 6.4, \"SepalWidth\": 3.2, \"PetalLength\": 4.5, \"PetalWidth\": 1.5, \"Species\": \"versicolor\"}, {\"SepalLength\": 6.9, \"SepalWidth\": 3.1, \"PetalLength\": 4.9, \"PetalWidth\": 1.5, \"Species\": \"versicolor\"}, {\"SepalLength\": 5.5, \"SepalWidth\": 2.3, \"PetalLength\": 4.0, \"PetalWidth\": 1.3, \"Species\": \"versicolor\"}, {\"SepalLength\": 6.5, \"SepalWidth\": 2.8, \"PetalLength\": 4.6, \"PetalWidth\": 1.5, \"Species\": \"versicolor\"}, {\"SepalLength\": 5.7, \"SepalWidth\": 2.8, \"PetalLength\": 4.5, \"PetalWidth\": 1.3, \"Species\": \"versicolor\"}, {\"SepalLength\": 6.3, \"SepalWidth\": 3.3, \"PetalLength\": 4.7, \"PetalWidth\": 1.6, \"Species\": \"versicolor\"}, {\"SepalLength\": 4.9, \"SepalWidth\": 2.4, \"PetalLength\": 3.3, \"PetalWidth\": 1.0, \"Species\": \"versicolor\"}, {\"SepalLength\": 6.6, \"SepalWidth\": 2.9, \"PetalLength\": 4.6, \"PetalWidth\": 1.3, \"Species\": \"versicolor\"}, {\"SepalLength\": 5.2, \"SepalWidth\": 2.7, \"PetalLength\": 3.9, \"PetalWidth\": 1.4, \"Species\": \"versicolor\"}, {\"SepalLength\": 5.0, \"SepalWidth\": 2.0, \"PetalLength\": 3.5, \"PetalWidth\": 1.0, \"Species\": \"versicolor\"}, {\"SepalLength\": 5.9, \"SepalWidth\": 3.0, \"PetalLength\": 4.2, \"PetalWidth\": 1.5, \"Species\": \"versicolor\"}, {\"SepalLength\": 6.0, \"SepalWidth\": 2.2, \"PetalLength\": 4.0, \"PetalWidth\": 1.0, \"Species\": \"versicolor\"}, {\"SepalLength\": 6.1, \"SepalWidth\": 2.9, \"PetalLength\": 4.7, \"PetalWidth\": 1.4, \"Species\": \"versicolor\"}, {\"SepalLength\": 5.6, \"SepalWidth\": 2.9, \"PetalLength\": 3.6, \"PetalWidth\": 1.3, \"Species\": \"versicolor\"}, {\"SepalLength\": 6.7, \"SepalWidth\": 3.1, \"PetalLength\": 4.4, \"PetalWidth\": 1.4, \"Species\": \"versicolor\"}, {\"SepalLength\": 5.6, \"SepalWidth\": 3.0, \"PetalLength\": 4.5, \"PetalWidth\": 1.5, \"Species\": \"versicolor\"}, {\"SepalLength\": 5.8, \"SepalWidth\": 2.7, \"PetalLength\": 4.1, \"PetalWidth\": 1.0, \"Species\": \"versicolor\"}, {\"SepalLength\": 6.2, \"SepalWidth\": 2.2, \"PetalLength\": 4.5, \"PetalWidth\": 1.5, \"Species\": \"versicolor\"}, {\"SepalLength\": 5.6, \"SepalWidth\": 2.5, \"PetalLength\": 3.9, \"PetalWidth\": 1.1, \"Species\": \"versicolor\"}, {\"SepalLength\": 5.9, \"SepalWidth\": 3.2, \"PetalLength\": 4.8, \"PetalWidth\": 1.8, \"Species\": \"versicolor\"}, {\"SepalLength\": 6.1, \"SepalWidth\": 2.8, \"PetalLength\": 4.0, \"PetalWidth\": 1.3, \"Species\": \"versicolor\"}, {\"SepalLength\": 6.3, \"SepalWidth\": 2.5, \"PetalLength\": 4.9, \"PetalWidth\": 1.5, \"Species\": \"versicolor\"}, {\"SepalLength\": 6.1, \"SepalWidth\": 2.8, \"PetalLength\": 4.7, \"PetalWidth\": 1.2, \"Species\": \"versicolor\"}, {\"SepalLength\": 6.4, \"SepalWidth\": 2.9, \"PetalLength\": 4.3, \"PetalWidth\": 1.3, \"Species\": \"versicolor\"}, {\"SepalLength\": 6.6, \"SepalWidth\": 3.0, \"PetalLength\": 4.4, \"PetalWidth\": 1.4, \"Species\": \"versicolor\"}, {\"SepalLength\": 6.8, \"SepalWidth\": 2.8, \"PetalLength\": 4.8, \"PetalWidth\": 1.4, \"Species\": \"versicolor\"}, {\"SepalLength\": 6.7, \"SepalWidth\": 3.0, \"PetalLength\": 5.0, \"PetalWidth\": 1.7, \"Species\": \"versicolor\"}, {\"SepalLength\": 6.0, \"SepalWidth\": 2.9, \"PetalLength\": 4.5, \"PetalWidth\": 1.5, \"Species\": \"versicolor\"}, {\"SepalLength\": 5.7, \"SepalWidth\": 2.6, \"PetalLength\": 3.5, \"PetalWidth\": 1.0, \"Species\": \"versicolor\"}, {\"SepalLength\": 5.5, \"SepalWidth\": 2.4, \"PetalLength\": 3.8, \"PetalWidth\": 1.1, \"Species\": \"versicolor\"}, {\"SepalLength\": 5.5, \"SepalWidth\": 2.4, \"PetalLength\": 3.7, \"PetalWidth\": 1.0, \"Species\": \"versicolor\"}, {\"SepalLength\": 5.8, \"SepalWidth\": 2.7, \"PetalLength\": 3.9, \"PetalWidth\": 1.2, \"Species\": \"versicolor\"}, {\"SepalLength\": 6.0, \"SepalWidth\": 2.7, \"PetalLength\": 5.1, \"PetalWidth\": 1.6, \"Species\": \"versicolor\"}, {\"SepalLength\": 5.4, \"SepalWidth\": 3.0, \"PetalLength\": 4.5, \"PetalWidth\": 1.5, \"Species\": \"versicolor\"}, {\"SepalLength\": 6.0, \"SepalWidth\": 3.4, \"PetalLength\": 4.5, \"PetalWidth\": 1.6, \"Species\": \"versicolor\"}, {\"SepalLength\": 6.7, \"SepalWidth\": 3.1, \"PetalLength\": 4.7, \"PetalWidth\": 1.5, \"Species\": \"versicolor\"}, {\"SepalLength\": 6.3, \"SepalWidth\": 2.3, \"PetalLength\": 4.4, \"PetalWidth\": 1.3, \"Species\": \"versicolor\"}, {\"SepalLength\": 5.6, \"SepalWidth\": 3.0, \"PetalLength\": 4.1, \"PetalWidth\": 1.3, \"Species\": \"versicolor\"}, {\"SepalLength\": 5.5, \"SepalWidth\": 2.5, \"PetalLength\": 4.0, \"PetalWidth\": 1.3, \"Species\": \"versicolor\"}, {\"SepalLength\": 5.5, \"SepalWidth\": 2.6, \"PetalLength\": 4.4, \"PetalWidth\": 1.2, \"Species\": \"versicolor\"}, {\"SepalLength\": 6.1, \"SepalWidth\": 3.0, \"PetalLength\": 4.6, \"PetalWidth\": 1.4, \"Species\": \"versicolor\"}, {\"SepalLength\": 5.8, \"SepalWidth\": 2.6, \"PetalLength\": 4.0, \"PetalWidth\": 1.2, \"Species\": \"versicolor\"}, {\"SepalLength\": 5.0, \"SepalWidth\": 2.3, \"PetalLength\": 3.3, \"PetalWidth\": 1.0, \"Species\": \"versicolor\"}, {\"SepalLength\": 5.6, \"SepalWidth\": 2.7, \"PetalLength\": 4.2, \"PetalWidth\": 1.3, \"Species\": \"versicolor\"}, {\"SepalLength\": 5.7, \"SepalWidth\": 3.0, \"PetalLength\": 4.2, \"PetalWidth\": 1.2, \"Species\": \"versicolor\"}, {\"SepalLength\": 5.7, \"SepalWidth\": 2.9, \"PetalLength\": 4.2, \"PetalWidth\": 1.3, \"Species\": \"versicolor\"}, {\"SepalLength\": 6.2, \"SepalWidth\": 2.9, \"PetalLength\": 4.3, \"PetalWidth\": 1.3, \"Species\": \"versicolor\"}, {\"SepalLength\": 5.1, \"SepalWidth\": 2.5, \"PetalLength\": 3.0, \"PetalWidth\": 1.1, \"Species\": \"versicolor\"}, {\"SepalLength\": 5.7, \"SepalWidth\": 2.8, \"PetalLength\": 4.1, \"PetalWidth\": 1.3, \"Species\": \"versicolor\"}, {\"SepalLength\": 6.3, \"SepalWidth\": 3.3, \"PetalLength\": 6.0, \"PetalWidth\": 2.5, \"Species\": \"virginica\"}, {\"SepalLength\": 5.8, \"SepalWidth\": 2.7, \"PetalLength\": 5.1, \"PetalWidth\": 1.9, \"Species\": \"virginica\"}, {\"SepalLength\": 7.1, \"SepalWidth\": 3.0, \"PetalLength\": 5.9, \"PetalWidth\": 2.1, \"Species\": \"virginica\"}, {\"SepalLength\": 6.3, \"SepalWidth\": 2.9, \"PetalLength\": 5.6, \"PetalWidth\": 1.8, \"Species\": \"virginica\"}, {\"SepalLength\": 6.5, \"SepalWidth\": 3.0, \"PetalLength\": 5.8, \"PetalWidth\": 2.2, \"Species\": \"virginica\"}, {\"SepalLength\": 7.6, \"SepalWidth\": 3.0, \"PetalLength\": 6.6, \"PetalWidth\": 2.1, \"Species\": \"virginica\"}, {\"SepalLength\": 4.9, \"SepalWidth\": 2.5, \"PetalLength\": 4.5, \"PetalWidth\": 1.7, \"Species\": \"virginica\"}, {\"SepalLength\": 7.3, \"SepalWidth\": 2.9, \"PetalLength\": 6.3, \"PetalWidth\": 1.8, \"Species\": \"virginica\"}, {\"SepalLength\": 6.7, \"SepalWidth\": 2.5, \"PetalLength\": 5.8, \"PetalWidth\": 1.8, \"Species\": \"virginica\"}, {\"SepalLength\": 7.2, \"SepalWidth\": 3.6, \"PetalLength\": 6.1, \"PetalWidth\": 2.5, \"Species\": \"virginica\"}, {\"SepalLength\": 6.5, \"SepalWidth\": 3.2, \"PetalLength\": 5.1, \"PetalWidth\": 2.0, \"Species\": \"virginica\"}, {\"SepalLength\": 6.4, \"SepalWidth\": 2.7, \"PetalLength\": 5.3, \"PetalWidth\": 1.9, \"Species\": \"virginica\"}, {\"SepalLength\": 6.8, \"SepalWidth\": 3.0, \"PetalLength\": 5.5, \"PetalWidth\": 2.1, \"Species\": \"virginica\"}, {\"SepalLength\": 5.7, \"SepalWidth\": 2.5, \"PetalLength\": 5.0, \"PetalWidth\": 2.0, \"Species\": \"virginica\"}, {\"SepalLength\": 5.8, \"SepalWidth\": 2.8, \"PetalLength\": 5.1, \"PetalWidth\": 2.4, \"Species\": \"virginica\"}, {\"SepalLength\": 6.4, \"SepalWidth\": 3.2, \"PetalLength\": 5.3, \"PetalWidth\": 2.3, \"Species\": \"virginica\"}, {\"SepalLength\": 6.5, \"SepalWidth\": 3.0, \"PetalLength\": 5.5, \"PetalWidth\": 1.8, \"Species\": \"virginica\"}, {\"SepalLength\": 7.7, \"SepalWidth\": 3.8, \"PetalLength\": 6.7, \"PetalWidth\": 2.2, \"Species\": \"virginica\"}, {\"SepalLength\": 7.7, \"SepalWidth\": 2.6, \"PetalLength\": 6.9, \"PetalWidth\": 2.3, \"Species\": \"virginica\"}, {\"SepalLength\": 6.0, \"SepalWidth\": 2.2, \"PetalLength\": 5.0, \"PetalWidth\": 1.5, \"Species\": \"virginica\"}, {\"SepalLength\": 6.9, \"SepalWidth\": 3.2, \"PetalLength\": 5.7, \"PetalWidth\": 2.3, \"Species\": \"virginica\"}, {\"SepalLength\": 5.6, \"SepalWidth\": 2.8, \"PetalLength\": 4.9, \"PetalWidth\": 2.0, \"Species\": \"virginica\"}, {\"SepalLength\": 7.7, \"SepalWidth\": 2.8, \"PetalLength\": 6.7, \"PetalWidth\": 2.0, \"Species\": \"virginica\"}, {\"SepalLength\": 6.3, \"SepalWidth\": 2.7, \"PetalLength\": 4.9, \"PetalWidth\": 1.8, \"Species\": \"virginica\"}, {\"SepalLength\": 6.7, \"SepalWidth\": 3.3, \"PetalLength\": 5.7, \"PetalWidth\": 2.1, \"Species\": \"virginica\"}, {\"SepalLength\": 7.2, \"SepalWidth\": 3.2, \"PetalLength\": 6.0, \"PetalWidth\": 1.8, \"Species\": \"virginica\"}, {\"SepalLength\": 6.2, \"SepalWidth\": 2.8, \"PetalLength\": 4.8, \"PetalWidth\": 1.8, \"Species\": \"virginica\"}, {\"SepalLength\": 6.1, \"SepalWidth\": 3.0, \"PetalLength\": 4.9, \"PetalWidth\": 1.8, \"Species\": \"virginica\"}, {\"SepalLength\": 6.4, \"SepalWidth\": 2.8, \"PetalLength\": 5.6, \"PetalWidth\": 2.1, \"Species\": \"virginica\"}, {\"SepalLength\": 7.2, \"SepalWidth\": 3.0, \"PetalLength\": 5.8, \"PetalWidth\": 1.6, \"Species\": \"virginica\"}, {\"SepalLength\": 7.4, \"SepalWidth\": 2.8, \"PetalLength\": 6.1, \"PetalWidth\": 1.9, \"Species\": \"virginica\"}, {\"SepalLength\": 7.9, \"SepalWidth\": 3.8, \"PetalLength\": 6.4, \"PetalWidth\": 2.0, \"Species\": \"virginica\"}, {\"SepalLength\": 6.4, \"SepalWidth\": 2.8, \"PetalLength\": 5.6, \"PetalWidth\": 2.2, \"Species\": \"virginica\"}, {\"SepalLength\": 6.3, \"SepalWidth\": 2.8, \"PetalLength\": 5.1, \"PetalWidth\": 1.5, \"Species\": \"virginica\"}, {\"SepalLength\": 6.1, \"SepalWidth\": 2.6, \"PetalLength\": 5.6, \"PetalWidth\": 1.4, \"Species\": \"virginica\"}, {\"SepalLength\": 7.7, \"SepalWidth\": 3.0, \"PetalLength\": 6.1, \"PetalWidth\": 2.3, \"Species\": \"virginica\"}, {\"SepalLength\": 6.3, \"SepalWidth\": 3.4, \"PetalLength\": 5.6, \"PetalWidth\": 2.4, \"Species\": \"virginica\"}, {\"SepalLength\": 6.4, \"SepalWidth\": 3.1, \"PetalLength\": 5.5, \"PetalWidth\": 1.8, \"Species\": \"virginica\"}, {\"SepalLength\": 6.0, \"SepalWidth\": 3.0, \"PetalLength\": 4.8, \"PetalWidth\": 1.8, \"Species\": \"virginica\"}, {\"SepalLength\": 6.9, \"SepalWidth\": 3.1, \"PetalLength\": 5.4, \"PetalWidth\": 2.1, \"Species\": \"virginica\"}, {\"SepalLength\": 6.7, \"SepalWidth\": 3.1, \"PetalLength\": 5.6, \"PetalWidth\": 2.4, \"Species\": \"virginica\"}, {\"SepalLength\": 6.9, \"SepalWidth\": 3.1, \"PetalLength\": 5.1, \"PetalWidth\": 2.3, \"Species\": \"virginica\"}, {\"SepalLength\": 5.8, \"SepalWidth\": 2.7, \"PetalLength\": 5.1, \"PetalWidth\": 1.9, \"Species\": \"virginica\"}, {\"SepalLength\": 6.8, \"SepalWidth\": 3.2, \"PetalLength\": 5.9, \"PetalWidth\": 2.3, \"Species\": \"virginica\"}, {\"SepalLength\": 6.7, \"SepalWidth\": 3.3, \"PetalLength\": 5.7, \"PetalWidth\": 2.5, \"Species\": \"virginica\"}, {\"SepalLength\": 6.7, \"SepalWidth\": 3.0, \"PetalLength\": 5.2, \"PetalWidth\": 2.3, \"Species\": \"virginica\"}, {\"SepalLength\": 6.3, \"SepalWidth\": 2.5, \"PetalLength\": 5.0, \"PetalWidth\": 1.9, \"Species\": \"virginica\"}, {\"SepalLength\": 6.5, \"SepalWidth\": 3.0, \"PetalLength\": 5.2, \"PetalWidth\": 2.0, \"Species\": \"virginica\"}, {\"SepalLength\": 6.2, \"SepalWidth\": 3.4, \"PetalLength\": 5.4, \"PetalWidth\": 2.3, \"Species\": \"virginica\"}, {\"SepalLength\": 5.9, \"SepalWidth\": 3.0, \"PetalLength\": 5.1, \"PetalWidth\": 1.8, \"Species\": \"virginica\"}]}}, {\"mode\": \"vega-lite\"});\n",
       "</script>"
      ],
      "text/plain": [
       "alt.Chart(...)"
      ]
     },
     "execution_count": 16,
     "metadata": {},
     "output_type": "execute_result"
    }
   ],
   "source": [
    "alt.Chart(iris, title = 'Petal Lengths of Species').mark_boxplot().encode(\n",
    "      x = alt.X('Species', title = 'Type of Species'),\n",
    "      y = alt.Y('PetalLength', title = 'Petal Length')\n",
    ")"
   ]
  },
  {
   "cell_type": "code",
   "execution_count": 17,
   "id": "552e2e8c-f442-4eeb-bc13-c687ed2a5765",
   "metadata": {},
   "outputs": [
    {
     "data": {
      "text/html": [
       "\n",
       "<div id=\"altair-viz-d859141202fa433c80b9d1fd1c018a42\"></div>\n",
       "<script type=\"text/javascript\">\n",
       "  var VEGA_DEBUG = (typeof VEGA_DEBUG == \"undefined\") ? {} : VEGA_DEBUG;\n",
       "  (function(spec, embedOpt){\n",
       "    let outputDiv = document.currentScript.previousElementSibling;\n",
       "    if (outputDiv.id !== \"altair-viz-d859141202fa433c80b9d1fd1c018a42\") {\n",
       "      outputDiv = document.getElementById(\"altair-viz-d859141202fa433c80b9d1fd1c018a42\");\n",
       "    }\n",
       "    const paths = {\n",
       "      \"vega\": \"https://cdn.jsdelivr.net/npm//vega@5?noext\",\n",
       "      \"vega-lib\": \"https://cdn.jsdelivr.net/npm//vega-lib?noext\",\n",
       "      \"vega-lite\": \"https://cdn.jsdelivr.net/npm//vega-lite@4.17.0?noext\",\n",
       "      \"vega-embed\": \"https://cdn.jsdelivr.net/npm//vega-embed@6?noext\",\n",
       "    };\n",
       "\n",
       "    function maybeLoadScript(lib, version) {\n",
       "      var key = `${lib.replace(\"-\", \"\")}_version`;\n",
       "      return (VEGA_DEBUG[key] == version) ?\n",
       "        Promise.resolve(paths[lib]) :\n",
       "        new Promise(function(resolve, reject) {\n",
       "          var s = document.createElement('script');\n",
       "          document.getElementsByTagName(\"head\")[0].appendChild(s);\n",
       "          s.async = true;\n",
       "          s.onload = () => {\n",
       "            VEGA_DEBUG[key] = version;\n",
       "            return resolve(paths[lib]);\n",
       "          };\n",
       "          s.onerror = () => reject(`Error loading script: ${paths[lib]}`);\n",
       "          s.src = paths[lib];\n",
       "        });\n",
       "    }\n",
       "\n",
       "    function showError(err) {\n",
       "      outputDiv.innerHTML = `<div class=\"error\" style=\"color:red;\">${err}</div>`;\n",
       "      throw err;\n",
       "    }\n",
       "\n",
       "    function displayChart(vegaEmbed) {\n",
       "      vegaEmbed(outputDiv, spec, embedOpt)\n",
       "        .catch(err => showError(`Javascript Error: ${err.message}<br>This usually means there's a typo in your chart specification. See the javascript console for the full traceback.`));\n",
       "    }\n",
       "\n",
       "    if(typeof define === \"function\" && define.amd) {\n",
       "      requirejs.config({paths});\n",
       "      require([\"vega-embed\"], displayChart, err => showError(`Error loading script: ${err.message}`));\n",
       "    } else {\n",
       "      maybeLoadScript(\"vega\", \"5\")\n",
       "        .then(() => maybeLoadScript(\"vega-lite\", \"4.17.0\"))\n",
       "        .then(() => maybeLoadScript(\"vega-embed\", \"6\"))\n",
       "        .catch(showError)\n",
       "        .then(() => displayChart(vegaEmbed));\n",
       "    }\n",
       "  })({\"config\": {\"view\": {\"continuousWidth\": 400, \"continuousHeight\": 300}}, \"data\": {\"name\": \"data-d1be07d90518734e6d08167a291c95a9\"}, \"mark\": \"boxplot\", \"encoding\": {\"color\": {\"field\": \"Species\", \"type\": \"nominal\"}, \"x\": {\"field\": \"Species\", \"title\": \"Type of Species\", \"type\": \"nominal\"}, \"y\": {\"field\": \"PetalLength\", \"title\": \"Petal Length\", \"type\": \"quantitative\"}}, \"title\": \"Petal Lengths of Species\", \"$schema\": \"https://vega.github.io/schema/vega-lite/v4.17.0.json\", \"datasets\": {\"data-d1be07d90518734e6d08167a291c95a9\": [{\"SepalLength\": 5.1, \"SepalWidth\": 3.5, \"PetalLength\": 1.4, \"PetalWidth\": 0.2, \"Species\": \"setosa\"}, {\"SepalLength\": 4.9, \"SepalWidth\": 3.0, \"PetalLength\": 1.4, \"PetalWidth\": 0.2, \"Species\": \"setosa\"}, {\"SepalLength\": 4.7, \"SepalWidth\": 3.2, \"PetalLength\": 1.3, \"PetalWidth\": 0.2, \"Species\": \"setosa\"}, {\"SepalLength\": 4.6, \"SepalWidth\": 3.1, \"PetalLength\": 1.5, \"PetalWidth\": 0.2, \"Species\": \"setosa\"}, {\"SepalLength\": 5.0, \"SepalWidth\": 3.6, \"PetalLength\": 1.4, \"PetalWidth\": 0.2, \"Species\": \"setosa\"}, {\"SepalLength\": 5.4, \"SepalWidth\": 3.9, \"PetalLength\": 1.7, \"PetalWidth\": 0.4, \"Species\": \"setosa\"}, {\"SepalLength\": 4.6, \"SepalWidth\": 3.4, \"PetalLength\": 1.4, \"PetalWidth\": 0.3, \"Species\": \"setosa\"}, {\"SepalLength\": 5.0, \"SepalWidth\": 3.4, \"PetalLength\": 1.5, \"PetalWidth\": 0.2, \"Species\": \"setosa\"}, {\"SepalLength\": 4.4, \"SepalWidth\": 2.9, \"PetalLength\": 1.4, \"PetalWidth\": 0.2, \"Species\": \"setosa\"}, {\"SepalLength\": 4.9, \"SepalWidth\": 3.1, \"PetalLength\": 1.5, \"PetalWidth\": 0.1, \"Species\": \"setosa\"}, {\"SepalLength\": 5.4, \"SepalWidth\": 3.7, \"PetalLength\": 1.5, \"PetalWidth\": 0.2, \"Species\": \"setosa\"}, {\"SepalLength\": 4.8, \"SepalWidth\": 3.4, \"PetalLength\": 1.6, \"PetalWidth\": 0.2, \"Species\": \"setosa\"}, {\"SepalLength\": 4.8, \"SepalWidth\": 3.0, \"PetalLength\": 1.4, \"PetalWidth\": 0.1, \"Species\": \"setosa\"}, {\"SepalLength\": 4.3, \"SepalWidth\": 3.0, \"PetalLength\": 1.1, \"PetalWidth\": 0.1, \"Species\": \"setosa\"}, {\"SepalLength\": 5.8, \"SepalWidth\": 4.0, \"PetalLength\": 1.2, \"PetalWidth\": 0.2, \"Species\": \"setosa\"}, {\"SepalLength\": 5.7, \"SepalWidth\": 4.4, \"PetalLength\": 1.5, \"PetalWidth\": 0.4, \"Species\": \"setosa\"}, {\"SepalLength\": 5.4, \"SepalWidth\": 3.9, \"PetalLength\": 1.3, \"PetalWidth\": 0.4, \"Species\": \"setosa\"}, {\"SepalLength\": 5.1, \"SepalWidth\": 3.5, \"PetalLength\": 1.4, \"PetalWidth\": 0.3, \"Species\": \"setosa\"}, {\"SepalLength\": 5.7, \"SepalWidth\": 3.8, \"PetalLength\": 1.7, \"PetalWidth\": 0.3, \"Species\": \"setosa\"}, {\"SepalLength\": 5.1, \"SepalWidth\": 3.8, \"PetalLength\": 1.5, \"PetalWidth\": 0.3, \"Species\": \"setosa\"}, {\"SepalLength\": 5.4, \"SepalWidth\": 3.4, \"PetalLength\": 1.7, \"PetalWidth\": 0.2, \"Species\": \"setosa\"}, {\"SepalLength\": 5.1, \"SepalWidth\": 3.7, \"PetalLength\": 1.5, \"PetalWidth\": 0.4, \"Species\": \"setosa\"}, {\"SepalLength\": 4.6, \"SepalWidth\": 3.6, \"PetalLength\": 1.0, \"PetalWidth\": 0.2, \"Species\": \"setosa\"}, {\"SepalLength\": 5.1, \"SepalWidth\": 3.3, \"PetalLength\": 1.7, \"PetalWidth\": 0.5, \"Species\": \"setosa\"}, {\"SepalLength\": 4.8, \"SepalWidth\": 3.4, \"PetalLength\": 1.9, \"PetalWidth\": 0.2, \"Species\": \"setosa\"}, {\"SepalLength\": 5.0, \"SepalWidth\": 3.0, \"PetalLength\": 1.6, \"PetalWidth\": 0.2, \"Species\": \"setosa\"}, {\"SepalLength\": 5.0, \"SepalWidth\": 3.4, \"PetalLength\": 1.6, \"PetalWidth\": 0.4, \"Species\": \"setosa\"}, {\"SepalLength\": 5.2, \"SepalWidth\": 3.5, \"PetalLength\": 1.5, \"PetalWidth\": 0.2, \"Species\": \"setosa\"}, {\"SepalLength\": 5.2, \"SepalWidth\": 3.4, \"PetalLength\": 1.4, \"PetalWidth\": 0.2, \"Species\": \"setosa\"}, {\"SepalLength\": 4.7, \"SepalWidth\": 3.2, \"PetalLength\": 1.6, \"PetalWidth\": 0.2, \"Species\": \"setosa\"}, {\"SepalLength\": 4.8, \"SepalWidth\": 3.1, \"PetalLength\": 1.6, \"PetalWidth\": 0.2, \"Species\": \"setosa\"}, {\"SepalLength\": 5.4, \"SepalWidth\": 3.4, \"PetalLength\": 1.5, \"PetalWidth\": 0.4, \"Species\": \"setosa\"}, {\"SepalLength\": 5.2, \"SepalWidth\": 4.1, \"PetalLength\": 1.5, \"PetalWidth\": 0.1, \"Species\": \"setosa\"}, {\"SepalLength\": 5.5, \"SepalWidth\": 4.2, \"PetalLength\": 1.4, \"PetalWidth\": 0.2, \"Species\": \"setosa\"}, {\"SepalLength\": 4.9, \"SepalWidth\": 3.1, \"PetalLength\": 1.5, \"PetalWidth\": 0.2, \"Species\": \"setosa\"}, {\"SepalLength\": 5.0, \"SepalWidth\": 3.2, \"PetalLength\": 1.2, \"PetalWidth\": 0.2, \"Species\": \"setosa\"}, {\"SepalLength\": 5.5, \"SepalWidth\": 3.5, \"PetalLength\": 1.3, \"PetalWidth\": 0.2, \"Species\": \"setosa\"}, {\"SepalLength\": 4.9, \"SepalWidth\": 3.6, \"PetalLength\": 1.4, \"PetalWidth\": 0.1, \"Species\": \"setosa\"}, {\"SepalLength\": 4.4, \"SepalWidth\": 3.0, \"PetalLength\": 1.3, \"PetalWidth\": 0.2, \"Species\": \"setosa\"}, {\"SepalLength\": 5.1, \"SepalWidth\": 3.4, \"PetalLength\": 1.5, \"PetalWidth\": 0.2, \"Species\": \"setosa\"}, {\"SepalLength\": 5.0, \"SepalWidth\": 3.5, \"PetalLength\": 1.3, \"PetalWidth\": 0.3, \"Species\": \"setosa\"}, {\"SepalLength\": 4.5, \"SepalWidth\": 2.3, \"PetalLength\": 1.3, \"PetalWidth\": 0.3, \"Species\": \"setosa\"}, {\"SepalLength\": 4.4, \"SepalWidth\": 3.2, \"PetalLength\": 1.3, \"PetalWidth\": 0.2, \"Species\": \"setosa\"}, {\"SepalLength\": 5.0, \"SepalWidth\": 3.5, \"PetalLength\": 1.6, \"PetalWidth\": 0.6, \"Species\": \"setosa\"}, {\"SepalLength\": 5.1, \"SepalWidth\": 3.8, \"PetalLength\": 1.9, \"PetalWidth\": 0.4, \"Species\": \"setosa\"}, {\"SepalLength\": 4.8, \"SepalWidth\": 3.0, \"PetalLength\": 1.4, \"PetalWidth\": 0.3, \"Species\": \"setosa\"}, {\"SepalLength\": 5.1, \"SepalWidth\": 3.8, \"PetalLength\": 1.6, \"PetalWidth\": 0.2, \"Species\": \"setosa\"}, {\"SepalLength\": 4.6, \"SepalWidth\": 3.2, \"PetalLength\": 1.4, \"PetalWidth\": 0.2, \"Species\": \"setosa\"}, {\"SepalLength\": 5.3, \"SepalWidth\": 3.7, \"PetalLength\": 1.5, \"PetalWidth\": 0.2, \"Species\": \"setosa\"}, {\"SepalLength\": 5.0, \"SepalWidth\": 3.3, \"PetalLength\": 1.4, \"PetalWidth\": 0.2, \"Species\": \"setosa\"}, {\"SepalLength\": 7.0, \"SepalWidth\": 3.2, \"PetalLength\": 4.7, \"PetalWidth\": 1.4, \"Species\": \"versicolor\"}, {\"SepalLength\": 6.4, \"SepalWidth\": 3.2, \"PetalLength\": 4.5, \"PetalWidth\": 1.5, \"Species\": \"versicolor\"}, {\"SepalLength\": 6.9, \"SepalWidth\": 3.1, \"PetalLength\": 4.9, \"PetalWidth\": 1.5, \"Species\": \"versicolor\"}, {\"SepalLength\": 5.5, \"SepalWidth\": 2.3, \"PetalLength\": 4.0, \"PetalWidth\": 1.3, \"Species\": \"versicolor\"}, {\"SepalLength\": 6.5, \"SepalWidth\": 2.8, \"PetalLength\": 4.6, \"PetalWidth\": 1.5, \"Species\": \"versicolor\"}, {\"SepalLength\": 5.7, \"SepalWidth\": 2.8, \"PetalLength\": 4.5, \"PetalWidth\": 1.3, \"Species\": \"versicolor\"}, {\"SepalLength\": 6.3, \"SepalWidth\": 3.3, \"PetalLength\": 4.7, \"PetalWidth\": 1.6, \"Species\": \"versicolor\"}, {\"SepalLength\": 4.9, \"SepalWidth\": 2.4, \"PetalLength\": 3.3, \"PetalWidth\": 1.0, \"Species\": \"versicolor\"}, {\"SepalLength\": 6.6, \"SepalWidth\": 2.9, \"PetalLength\": 4.6, \"PetalWidth\": 1.3, \"Species\": \"versicolor\"}, {\"SepalLength\": 5.2, \"SepalWidth\": 2.7, \"PetalLength\": 3.9, \"PetalWidth\": 1.4, \"Species\": \"versicolor\"}, {\"SepalLength\": 5.0, \"SepalWidth\": 2.0, \"PetalLength\": 3.5, \"PetalWidth\": 1.0, \"Species\": \"versicolor\"}, {\"SepalLength\": 5.9, \"SepalWidth\": 3.0, \"PetalLength\": 4.2, \"PetalWidth\": 1.5, \"Species\": \"versicolor\"}, {\"SepalLength\": 6.0, \"SepalWidth\": 2.2, \"PetalLength\": 4.0, \"PetalWidth\": 1.0, \"Species\": \"versicolor\"}, {\"SepalLength\": 6.1, \"SepalWidth\": 2.9, \"PetalLength\": 4.7, \"PetalWidth\": 1.4, \"Species\": \"versicolor\"}, {\"SepalLength\": 5.6, \"SepalWidth\": 2.9, \"PetalLength\": 3.6, \"PetalWidth\": 1.3, \"Species\": \"versicolor\"}, {\"SepalLength\": 6.7, \"SepalWidth\": 3.1, \"PetalLength\": 4.4, \"PetalWidth\": 1.4, \"Species\": \"versicolor\"}, {\"SepalLength\": 5.6, \"SepalWidth\": 3.0, \"PetalLength\": 4.5, \"PetalWidth\": 1.5, \"Species\": \"versicolor\"}, {\"SepalLength\": 5.8, \"SepalWidth\": 2.7, \"PetalLength\": 4.1, \"PetalWidth\": 1.0, \"Species\": \"versicolor\"}, {\"SepalLength\": 6.2, \"SepalWidth\": 2.2, \"PetalLength\": 4.5, \"PetalWidth\": 1.5, \"Species\": \"versicolor\"}, {\"SepalLength\": 5.6, \"SepalWidth\": 2.5, \"PetalLength\": 3.9, \"PetalWidth\": 1.1, \"Species\": \"versicolor\"}, {\"SepalLength\": 5.9, \"SepalWidth\": 3.2, \"PetalLength\": 4.8, \"PetalWidth\": 1.8, \"Species\": \"versicolor\"}, {\"SepalLength\": 6.1, \"SepalWidth\": 2.8, \"PetalLength\": 4.0, \"PetalWidth\": 1.3, \"Species\": \"versicolor\"}, {\"SepalLength\": 6.3, \"SepalWidth\": 2.5, \"PetalLength\": 4.9, \"PetalWidth\": 1.5, \"Species\": \"versicolor\"}, {\"SepalLength\": 6.1, \"SepalWidth\": 2.8, \"PetalLength\": 4.7, \"PetalWidth\": 1.2, \"Species\": \"versicolor\"}, {\"SepalLength\": 6.4, \"SepalWidth\": 2.9, \"PetalLength\": 4.3, \"PetalWidth\": 1.3, \"Species\": \"versicolor\"}, {\"SepalLength\": 6.6, \"SepalWidth\": 3.0, \"PetalLength\": 4.4, \"PetalWidth\": 1.4, \"Species\": \"versicolor\"}, {\"SepalLength\": 6.8, \"SepalWidth\": 2.8, \"PetalLength\": 4.8, \"PetalWidth\": 1.4, \"Species\": \"versicolor\"}, {\"SepalLength\": 6.7, \"SepalWidth\": 3.0, \"PetalLength\": 5.0, \"PetalWidth\": 1.7, \"Species\": \"versicolor\"}, {\"SepalLength\": 6.0, \"SepalWidth\": 2.9, \"PetalLength\": 4.5, \"PetalWidth\": 1.5, \"Species\": \"versicolor\"}, {\"SepalLength\": 5.7, \"SepalWidth\": 2.6, \"PetalLength\": 3.5, \"PetalWidth\": 1.0, \"Species\": \"versicolor\"}, {\"SepalLength\": 5.5, \"SepalWidth\": 2.4, \"PetalLength\": 3.8, \"PetalWidth\": 1.1, \"Species\": \"versicolor\"}, {\"SepalLength\": 5.5, \"SepalWidth\": 2.4, \"PetalLength\": 3.7, \"PetalWidth\": 1.0, \"Species\": \"versicolor\"}, {\"SepalLength\": 5.8, \"SepalWidth\": 2.7, \"PetalLength\": 3.9, \"PetalWidth\": 1.2, \"Species\": \"versicolor\"}, {\"SepalLength\": 6.0, \"SepalWidth\": 2.7, \"PetalLength\": 5.1, \"PetalWidth\": 1.6, \"Species\": \"versicolor\"}, {\"SepalLength\": 5.4, \"SepalWidth\": 3.0, \"PetalLength\": 4.5, \"PetalWidth\": 1.5, \"Species\": \"versicolor\"}, {\"SepalLength\": 6.0, \"SepalWidth\": 3.4, \"PetalLength\": 4.5, \"PetalWidth\": 1.6, \"Species\": \"versicolor\"}, {\"SepalLength\": 6.7, \"SepalWidth\": 3.1, \"PetalLength\": 4.7, \"PetalWidth\": 1.5, \"Species\": \"versicolor\"}, {\"SepalLength\": 6.3, \"SepalWidth\": 2.3, \"PetalLength\": 4.4, \"PetalWidth\": 1.3, \"Species\": \"versicolor\"}, {\"SepalLength\": 5.6, \"SepalWidth\": 3.0, \"PetalLength\": 4.1, \"PetalWidth\": 1.3, \"Species\": \"versicolor\"}, {\"SepalLength\": 5.5, \"SepalWidth\": 2.5, \"PetalLength\": 4.0, \"PetalWidth\": 1.3, \"Species\": \"versicolor\"}, {\"SepalLength\": 5.5, \"SepalWidth\": 2.6, \"PetalLength\": 4.4, \"PetalWidth\": 1.2, \"Species\": \"versicolor\"}, {\"SepalLength\": 6.1, \"SepalWidth\": 3.0, \"PetalLength\": 4.6, \"PetalWidth\": 1.4, \"Species\": \"versicolor\"}, {\"SepalLength\": 5.8, \"SepalWidth\": 2.6, \"PetalLength\": 4.0, \"PetalWidth\": 1.2, \"Species\": \"versicolor\"}, {\"SepalLength\": 5.0, \"SepalWidth\": 2.3, \"PetalLength\": 3.3, \"PetalWidth\": 1.0, \"Species\": \"versicolor\"}, {\"SepalLength\": 5.6, \"SepalWidth\": 2.7, \"PetalLength\": 4.2, \"PetalWidth\": 1.3, \"Species\": \"versicolor\"}, {\"SepalLength\": 5.7, \"SepalWidth\": 3.0, \"PetalLength\": 4.2, \"PetalWidth\": 1.2, \"Species\": \"versicolor\"}, {\"SepalLength\": 5.7, \"SepalWidth\": 2.9, \"PetalLength\": 4.2, \"PetalWidth\": 1.3, \"Species\": \"versicolor\"}, {\"SepalLength\": 6.2, \"SepalWidth\": 2.9, \"PetalLength\": 4.3, \"PetalWidth\": 1.3, \"Species\": \"versicolor\"}, {\"SepalLength\": 5.1, \"SepalWidth\": 2.5, \"PetalLength\": 3.0, \"PetalWidth\": 1.1, \"Species\": \"versicolor\"}, {\"SepalLength\": 5.7, \"SepalWidth\": 2.8, \"PetalLength\": 4.1, \"PetalWidth\": 1.3, \"Species\": \"versicolor\"}, {\"SepalLength\": 6.3, \"SepalWidth\": 3.3, \"PetalLength\": 6.0, \"PetalWidth\": 2.5, \"Species\": \"virginica\"}, {\"SepalLength\": 5.8, \"SepalWidth\": 2.7, \"PetalLength\": 5.1, \"PetalWidth\": 1.9, \"Species\": \"virginica\"}, {\"SepalLength\": 7.1, \"SepalWidth\": 3.0, \"PetalLength\": 5.9, \"PetalWidth\": 2.1, \"Species\": \"virginica\"}, {\"SepalLength\": 6.3, \"SepalWidth\": 2.9, \"PetalLength\": 5.6, \"PetalWidth\": 1.8, \"Species\": \"virginica\"}, {\"SepalLength\": 6.5, \"SepalWidth\": 3.0, \"PetalLength\": 5.8, \"PetalWidth\": 2.2, \"Species\": \"virginica\"}, {\"SepalLength\": 7.6, \"SepalWidth\": 3.0, \"PetalLength\": 6.6, \"PetalWidth\": 2.1, \"Species\": \"virginica\"}, {\"SepalLength\": 4.9, \"SepalWidth\": 2.5, \"PetalLength\": 4.5, \"PetalWidth\": 1.7, \"Species\": \"virginica\"}, {\"SepalLength\": 7.3, \"SepalWidth\": 2.9, \"PetalLength\": 6.3, \"PetalWidth\": 1.8, \"Species\": \"virginica\"}, {\"SepalLength\": 6.7, \"SepalWidth\": 2.5, \"PetalLength\": 5.8, \"PetalWidth\": 1.8, \"Species\": \"virginica\"}, {\"SepalLength\": 7.2, \"SepalWidth\": 3.6, \"PetalLength\": 6.1, \"PetalWidth\": 2.5, \"Species\": \"virginica\"}, {\"SepalLength\": 6.5, \"SepalWidth\": 3.2, \"PetalLength\": 5.1, \"PetalWidth\": 2.0, \"Species\": \"virginica\"}, {\"SepalLength\": 6.4, \"SepalWidth\": 2.7, \"PetalLength\": 5.3, \"PetalWidth\": 1.9, \"Species\": \"virginica\"}, {\"SepalLength\": 6.8, \"SepalWidth\": 3.0, \"PetalLength\": 5.5, \"PetalWidth\": 2.1, \"Species\": \"virginica\"}, {\"SepalLength\": 5.7, \"SepalWidth\": 2.5, \"PetalLength\": 5.0, \"PetalWidth\": 2.0, \"Species\": \"virginica\"}, {\"SepalLength\": 5.8, \"SepalWidth\": 2.8, \"PetalLength\": 5.1, \"PetalWidth\": 2.4, \"Species\": \"virginica\"}, {\"SepalLength\": 6.4, \"SepalWidth\": 3.2, \"PetalLength\": 5.3, \"PetalWidth\": 2.3, \"Species\": \"virginica\"}, {\"SepalLength\": 6.5, \"SepalWidth\": 3.0, \"PetalLength\": 5.5, \"PetalWidth\": 1.8, \"Species\": \"virginica\"}, {\"SepalLength\": 7.7, \"SepalWidth\": 3.8, \"PetalLength\": 6.7, \"PetalWidth\": 2.2, \"Species\": \"virginica\"}, {\"SepalLength\": 7.7, \"SepalWidth\": 2.6, \"PetalLength\": 6.9, \"PetalWidth\": 2.3, \"Species\": \"virginica\"}, {\"SepalLength\": 6.0, \"SepalWidth\": 2.2, \"PetalLength\": 5.0, \"PetalWidth\": 1.5, \"Species\": \"virginica\"}, {\"SepalLength\": 6.9, \"SepalWidth\": 3.2, \"PetalLength\": 5.7, \"PetalWidth\": 2.3, \"Species\": \"virginica\"}, {\"SepalLength\": 5.6, \"SepalWidth\": 2.8, \"PetalLength\": 4.9, \"PetalWidth\": 2.0, \"Species\": \"virginica\"}, {\"SepalLength\": 7.7, \"SepalWidth\": 2.8, \"PetalLength\": 6.7, \"PetalWidth\": 2.0, \"Species\": \"virginica\"}, {\"SepalLength\": 6.3, \"SepalWidth\": 2.7, \"PetalLength\": 4.9, \"PetalWidth\": 1.8, \"Species\": \"virginica\"}, {\"SepalLength\": 6.7, \"SepalWidth\": 3.3, \"PetalLength\": 5.7, \"PetalWidth\": 2.1, \"Species\": \"virginica\"}, {\"SepalLength\": 7.2, \"SepalWidth\": 3.2, \"PetalLength\": 6.0, \"PetalWidth\": 1.8, \"Species\": \"virginica\"}, {\"SepalLength\": 6.2, \"SepalWidth\": 2.8, \"PetalLength\": 4.8, \"PetalWidth\": 1.8, \"Species\": \"virginica\"}, {\"SepalLength\": 6.1, \"SepalWidth\": 3.0, \"PetalLength\": 4.9, \"PetalWidth\": 1.8, \"Species\": \"virginica\"}, {\"SepalLength\": 6.4, \"SepalWidth\": 2.8, \"PetalLength\": 5.6, \"PetalWidth\": 2.1, \"Species\": \"virginica\"}, {\"SepalLength\": 7.2, \"SepalWidth\": 3.0, \"PetalLength\": 5.8, \"PetalWidth\": 1.6, \"Species\": \"virginica\"}, {\"SepalLength\": 7.4, \"SepalWidth\": 2.8, \"PetalLength\": 6.1, \"PetalWidth\": 1.9, \"Species\": \"virginica\"}, {\"SepalLength\": 7.9, \"SepalWidth\": 3.8, \"PetalLength\": 6.4, \"PetalWidth\": 2.0, \"Species\": \"virginica\"}, {\"SepalLength\": 6.4, \"SepalWidth\": 2.8, \"PetalLength\": 5.6, \"PetalWidth\": 2.2, \"Species\": \"virginica\"}, {\"SepalLength\": 6.3, \"SepalWidth\": 2.8, \"PetalLength\": 5.1, \"PetalWidth\": 1.5, \"Species\": \"virginica\"}, {\"SepalLength\": 6.1, \"SepalWidth\": 2.6, \"PetalLength\": 5.6, \"PetalWidth\": 1.4, \"Species\": \"virginica\"}, {\"SepalLength\": 7.7, \"SepalWidth\": 3.0, \"PetalLength\": 6.1, \"PetalWidth\": 2.3, \"Species\": \"virginica\"}, {\"SepalLength\": 6.3, \"SepalWidth\": 3.4, \"PetalLength\": 5.6, \"PetalWidth\": 2.4, \"Species\": \"virginica\"}, {\"SepalLength\": 6.4, \"SepalWidth\": 3.1, \"PetalLength\": 5.5, \"PetalWidth\": 1.8, \"Species\": \"virginica\"}, {\"SepalLength\": 6.0, \"SepalWidth\": 3.0, \"PetalLength\": 4.8, \"PetalWidth\": 1.8, \"Species\": \"virginica\"}, {\"SepalLength\": 6.9, \"SepalWidth\": 3.1, \"PetalLength\": 5.4, \"PetalWidth\": 2.1, \"Species\": \"virginica\"}, {\"SepalLength\": 6.7, \"SepalWidth\": 3.1, \"PetalLength\": 5.6, \"PetalWidth\": 2.4, \"Species\": \"virginica\"}, {\"SepalLength\": 6.9, \"SepalWidth\": 3.1, \"PetalLength\": 5.1, \"PetalWidth\": 2.3, \"Species\": \"virginica\"}, {\"SepalLength\": 5.8, \"SepalWidth\": 2.7, \"PetalLength\": 5.1, \"PetalWidth\": 1.9, \"Species\": \"virginica\"}, {\"SepalLength\": 6.8, \"SepalWidth\": 3.2, \"PetalLength\": 5.9, \"PetalWidth\": 2.3, \"Species\": \"virginica\"}, {\"SepalLength\": 6.7, \"SepalWidth\": 3.3, \"PetalLength\": 5.7, \"PetalWidth\": 2.5, \"Species\": \"virginica\"}, {\"SepalLength\": 6.7, \"SepalWidth\": 3.0, \"PetalLength\": 5.2, \"PetalWidth\": 2.3, \"Species\": \"virginica\"}, {\"SepalLength\": 6.3, \"SepalWidth\": 2.5, \"PetalLength\": 5.0, \"PetalWidth\": 1.9, \"Species\": \"virginica\"}, {\"SepalLength\": 6.5, \"SepalWidth\": 3.0, \"PetalLength\": 5.2, \"PetalWidth\": 2.0, \"Species\": \"virginica\"}, {\"SepalLength\": 6.2, \"SepalWidth\": 3.4, \"PetalLength\": 5.4, \"PetalWidth\": 2.3, \"Species\": \"virginica\"}, {\"SepalLength\": 5.9, \"SepalWidth\": 3.0, \"PetalLength\": 5.1, \"PetalWidth\": 1.8, \"Species\": \"virginica\"}]}}, {\"mode\": \"vega-lite\"});\n",
       "</script>"
      ],
      "text/plain": [
       "alt.Chart(...)"
      ]
     },
     "execution_count": 17,
     "metadata": {},
     "output_type": "execute_result"
    }
   ],
   "source": [
    "alt.Chart(iris, title = 'Petal Lengths of Species').mark_boxplot().encode(\n",
    "      x = alt.X('Species', title = 'Type of Species'),\n",
    "      y = alt.Y('PetalLength', title = 'Petal Length'),\n",
    "      color = 'Species'\n",
    ")"
   ]
  },
  {
   "cell_type": "code",
   "execution_count": null,
   "id": "d6302352-b43e-4f6b-88c1-8db41bd721f0",
   "metadata": {},
   "outputs": [],
   "source": []
  },
  {
   "cell_type": "code",
   "execution_count": null,
   "id": "a4ae66f4-7214-4e71-9fbb-9a7e345259d7",
   "metadata": {},
   "outputs": [],
   "source": []
  }
 ],
 "metadata": {
  "kernelspec": {
   "display_name": "Python 3 (ipykernel)",
   "language": "python",
   "name": "python3"
  },
  "language_info": {
   "codemirror_mode": {
    "name": "ipython",
    "version": 3
   },
   "file_extension": ".py",
   "mimetype": "text/x-python",
   "name": "python",
   "nbconvert_exporter": "python",
   "pygments_lexer": "ipython3",
   "version": "3.10.8"
  }
 },
 "nbformat": 4,
 "nbformat_minor": 5
}
